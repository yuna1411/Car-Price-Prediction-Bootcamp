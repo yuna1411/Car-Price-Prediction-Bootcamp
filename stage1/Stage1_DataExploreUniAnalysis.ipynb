{
 "cells": [
  {
   "cell_type": "code",
   "execution_count": 2,
   "id": "9ed4cf47-95d8-4435-953a-c3d4262b2e8d",
   "metadata": {},
   "outputs": [
    {
     "name": "stdout",
     "output_type": "stream",
     "text": [
      "Collecting missingno\n",
      "  Downloading missingno-0.5.2-py3-none-any.whl (8.7 kB)\n",
      "Requirement already satisfied: scipy in c:\\users\\myasu\\anaconda3\\lib\\site-packages (from missingno) (1.10.0)\n",
      "Requirement already satisfied: matplotlib in c:\\users\\myasu\\anaconda3\\lib\\site-packages (from missingno) (3.7.0)\n",
      "Requirement already satisfied: seaborn in c:\\users\\myasu\\anaconda3\\lib\\site-packages (from missingno) (0.12.2)\n",
      "Requirement already satisfied: numpy in c:\\users\\myasu\\anaconda3\\lib\\site-packages (from missingno) (1.23.5)\n",
      "Requirement already satisfied: pillow>=6.2.0 in c:\\users\\myasu\\anaconda3\\lib\\site-packages (from matplotlib->missingno) (9.4.0)\n",
      "Requirement already satisfied: python-dateutil>=2.7 in c:\\users\\myasu\\anaconda3\\lib\\site-packages (from matplotlib->missingno) (2.8.2)\n",
      "Requirement already satisfied: contourpy>=1.0.1 in c:\\users\\myasu\\anaconda3\\lib\\site-packages (from matplotlib->missingno) (1.0.5)\n",
      "Requirement already satisfied: kiwisolver>=1.0.1 in c:\\users\\myasu\\anaconda3\\lib\\site-packages (from matplotlib->missingno) (1.4.4)\n",
      "Requirement already satisfied: pyparsing>=2.3.1 in c:\\users\\myasu\\anaconda3\\lib\\site-packages (from matplotlib->missingno) (3.0.9)\n",
      "Requirement already satisfied: cycler>=0.10 in c:\\users\\myasu\\anaconda3\\lib\\site-packages (from matplotlib->missingno) (0.11.0)\n",
      "Requirement already satisfied: packaging>=20.0 in c:\\users\\myasu\\anaconda3\\lib\\site-packages (from matplotlib->missingno) (22.0)\n",
      "Requirement already satisfied: fonttools>=4.22.0 in c:\\users\\myasu\\anaconda3\\lib\\site-packages (from matplotlib->missingno) (4.25.0)\n",
      "Requirement already satisfied: pandas>=0.25 in c:\\users\\myasu\\anaconda3\\lib\\site-packages (from seaborn->missingno) (1.5.3)\n",
      "Requirement already satisfied: pytz>=2020.1 in c:\\users\\myasu\\anaconda3\\lib\\site-packages (from pandas>=0.25->seaborn->missingno) (2022.7)\n",
      "Requirement already satisfied: six>=1.5 in c:\\users\\myasu\\anaconda3\\lib\\site-packages (from python-dateutil>=2.7->matplotlib->missingno) (1.16.0)\n",
      "Installing collected packages: missingno\n",
      "Successfully installed missingno-0.5.2\n"
     ]
    }
   ],
   "source": [
    "! pip install missingno"
   ]
  },
  {
   "cell_type": "code",
   "execution_count": 3,
   "id": "aeeb6717-9a22-41e6-ad70-9245c6ace003",
   "metadata": {
    "id": "aeeb6717-9a22-41e6-ad70-9245c6ace003"
   },
   "outputs": [],
   "source": [
    "import pandas as pd\n",
    "import numpy as np\n",
    "import matplotlib.pyplot as plt\n",
    "import seaborn as sns\n",
    "import warnings\n",
    "import datetime\n",
    "import plotly.express as px\n",
    "import missingno as msno\n",
    "warnings.filterwarnings('ignore')\n",
    "\n",
    "%matplotlib inline"
   ]
  },
  {
   "cell_type": "markdown",
   "id": "25e1fb9b-d1e2-4d96-9e8d-68bd4f7677e7",
   "metadata": {
    "id": "25e1fb9b-d1e2-4d96-9e8d-68bd4f7677e7",
    "tags": []
   },
   "source": [
    "# Load and Describe Data"
   ]
  },
  {
   "cell_type": "markdown",
   "id": "4cba3bc5-4ce7-42ab-8cab-6c0c76803e7e",
   "metadata": {},
   "source": [
    "---------"
   ]
  },
  {
   "cell_type": "markdown",
   "id": "718b1041-448a-4098-9d70-84b6ace24e69",
   "metadata": {},
   "source": [
    "## Load Data"
   ]
  },
  {
   "cell_type": "markdown",
   "id": "3d83c749-758c-471a-8816-c9487e7603b1",
   "metadata": {
    "id": "3d83c749-758c-471a-8816-c9487e7603b1"
   },
   "source": [
    "Dataset yang kita gunakan adalah \"Used Car Auction Prices\" yang berasal dari Kaggle"
   ]
  },
  {
   "cell_type": "code",
   "execution_count": 4,
   "id": "5282fe34-04ac-4004-bf77-9f76bd983096",
   "metadata": {
    "colab": {
     "base_uri": "https://localhost:8080/",
     "height": 618
    },
    "id": "5282fe34-04ac-4004-bf77-9f76bd983096",
    "outputId": "cf3bea4e-0a57-4da7-b03e-4d361747ceb4"
   },
   "outputs": [
    {
     "data": {
      "text/html": [
       "<div>\n",
       "<style scoped>\n",
       "    .dataframe tbody tr th:only-of-type {\n",
       "        vertical-align: middle;\n",
       "    }\n",
       "\n",
       "    .dataframe tbody tr th {\n",
       "        vertical-align: top;\n",
       "    }\n",
       "\n",
       "    .dataframe thead th {\n",
       "        text-align: right;\n",
       "    }\n",
       "</style>\n",
       "<table border=\"1\" class=\"dataframe\">\n",
       "  <thead>\n",
       "    <tr style=\"text-align: right;\">\n",
       "      <th></th>\n",
       "      <th>year</th>\n",
       "      <th>make</th>\n",
       "      <th>model</th>\n",
       "      <th>trim</th>\n",
       "      <th>body</th>\n",
       "      <th>transmission</th>\n",
       "      <th>vin</th>\n",
       "      <th>state</th>\n",
       "      <th>condition</th>\n",
       "      <th>odometer</th>\n",
       "      <th>color</th>\n",
       "      <th>interior</th>\n",
       "      <th>seller</th>\n",
       "      <th>mmr</th>\n",
       "      <th>sellingprice</th>\n",
       "      <th>saledate</th>\n",
       "    </tr>\n",
       "  </thead>\n",
       "  <tbody>\n",
       "    <tr>\n",
       "      <th>35757</th>\n",
       "      <td>2012</td>\n",
       "      <td>Chevrolet</td>\n",
       "      <td>Traverse</td>\n",
       "      <td>LS</td>\n",
       "      <td>SUV</td>\n",
       "      <td>automatic</td>\n",
       "      <td>1gnkrfed4cj376333</td>\n",
       "      <td>tx</td>\n",
       "      <td>3.0</td>\n",
       "      <td>25810.0</td>\n",
       "      <td>gray</td>\n",
       "      <td>gray</td>\n",
       "      <td>texas auto brokers</td>\n",
       "      <td>16600</td>\n",
       "      <td>16500</td>\n",
       "      <td>Wed Feb 11 2015 02:00:00 GMT-0800 (PST)</td>\n",
       "    </tr>\n",
       "    <tr>\n",
       "      <th>517136</th>\n",
       "      <td>2012</td>\n",
       "      <td>Jeep</td>\n",
       "      <td>Compass</td>\n",
       "      <td>Limited</td>\n",
       "      <td>suv</td>\n",
       "      <td>automatic</td>\n",
       "      <td>1c4njdcb0cd623901</td>\n",
       "      <td>wi</td>\n",
       "      <td>4.2</td>\n",
       "      <td>35952.0</td>\n",
       "      <td>red</td>\n",
       "      <td>beige</td>\n",
       "      <td>ari</td>\n",
       "      <td>16450</td>\n",
       "      <td>17600</td>\n",
       "      <td>Wed Jun 10 2015 03:00:00 GMT-0700 (PDT)</td>\n",
       "    </tr>\n",
       "    <tr>\n",
       "      <th>475081</th>\n",
       "      <td>2013</td>\n",
       "      <td>Nissan</td>\n",
       "      <td>Sentra</td>\n",
       "      <td>SR</td>\n",
       "      <td>sedan</td>\n",
       "      <td>automatic</td>\n",
       "      <td>3n1ab7ap8dl656624</td>\n",
       "      <td>ca</td>\n",
       "      <td>4.1</td>\n",
       "      <td>27951.0</td>\n",
       "      <td>white</td>\n",
       "      <td>black</td>\n",
       "      <td>visalia ford</td>\n",
       "      <td>11750</td>\n",
       "      <td>12400</td>\n",
       "      <td>Thu May 28 2015 05:45:00 GMT-0700 (PDT)</td>\n",
       "    </tr>\n",
       "    <tr>\n",
       "      <th>551936</th>\n",
       "      <td>2014</td>\n",
       "      <td>Toyota</td>\n",
       "      <td>Tundra</td>\n",
       "      <td>SR5</td>\n",
       "      <td>double cab</td>\n",
       "      <td>automatic</td>\n",
       "      <td>5tfrm5f11ex076303</td>\n",
       "      <td>ga</td>\n",
       "      <td>2.1</td>\n",
       "      <td>7588.0</td>\n",
       "      <td>gray</td>\n",
       "      <td>gray</td>\n",
       "      <td>toyota financial services</td>\n",
       "      <td>27200</td>\n",
       "      <td>26600</td>\n",
       "      <td>Thu Jun 18 2015 03:00:00 GMT-0700 (PDT)</td>\n",
       "    </tr>\n",
       "    <tr>\n",
       "      <th>481819</th>\n",
       "      <td>2013</td>\n",
       "      <td>Dodge</td>\n",
       "      <td>Dart</td>\n",
       "      <td>SXT</td>\n",
       "      <td>sedan</td>\n",
       "      <td>automatic</td>\n",
       "      <td>1c3cdfba0dd267622</td>\n",
       "      <td>mo</td>\n",
       "      <td>3.5</td>\n",
       "      <td>42794.0</td>\n",
       "      <td>silver</td>\n",
       "      <td>black</td>\n",
       "      <td>the hertz corporation</td>\n",
       "      <td>10550</td>\n",
       "      <td>10600</td>\n",
       "      <td>Wed Jun 03 2015 03:00:00 GMT-0700 (PDT)</td>\n",
       "    </tr>\n",
       "  </tbody>\n",
       "</table>\n",
       "</div>"
      ],
      "text/plain": [
       "        year       make     model     trim        body transmission  \\\n",
       "35757   2012  Chevrolet  Traverse       LS         SUV    automatic   \n",
       "517136  2012       Jeep   Compass  Limited         suv    automatic   \n",
       "475081  2013     Nissan    Sentra       SR       sedan    automatic   \n",
       "551936  2014     Toyota    Tundra      SR5  double cab    automatic   \n",
       "481819  2013      Dodge      Dart      SXT       sedan    automatic   \n",
       "\n",
       "                      vin state  condition  odometer   color interior  \\\n",
       "35757   1gnkrfed4cj376333    tx        3.0   25810.0    gray     gray   \n",
       "517136  1c4njdcb0cd623901    wi        4.2   35952.0     red    beige   \n",
       "475081  3n1ab7ap8dl656624    ca        4.1   27951.0   white    black   \n",
       "551936  5tfrm5f11ex076303    ga        2.1    7588.0    gray     gray   \n",
       "481819  1c3cdfba0dd267622    mo        3.5   42794.0  silver    black   \n",
       "\n",
       "                           seller    mmr  sellingprice  \\\n",
       "35757          texas auto brokers  16600         16500   \n",
       "517136                        ari  16450         17600   \n",
       "475081               visalia ford  11750         12400   \n",
       "551936  toyota financial services  27200         26600   \n",
       "481819      the hertz corporation  10550         10600   \n",
       "\n",
       "                                       saledate  \n",
       "35757   Wed Feb 11 2015 02:00:00 GMT-0800 (PST)  \n",
       "517136  Wed Jun 10 2015 03:00:00 GMT-0700 (PDT)  \n",
       "475081  Thu May 28 2015 05:45:00 GMT-0700 (PDT)  \n",
       "551936  Thu Jun 18 2015 03:00:00 GMT-0700 (PDT)  \n",
       "481819  Wed Jun 03 2015 03:00:00 GMT-0700 (PDT)  "
      ]
     },
     "execution_count": 4,
     "metadata": {},
     "output_type": "execute_result"
    }
   ],
   "source": [
    "dfcar = pd.read_csv('car_prices.csv', on_bad_lines=\"skip\")\n",
    "dfcar.sample(5)"
   ]
  },
  {
   "cell_type": "markdown",
   "id": "f343f2ae-9589-4215-b913-71788a2fa22d",
   "metadata": {
    "id": "f343f2ae-9589-4215-b913-71788a2fa22d"
   },
   "source": [
    "#### List fitur pada dataset adalah sebagai berikut :\n",
    "\n",
    "1. Year : Tanggal produksi dari mobil.\n",
    "2. Make : Merk dari mobil.\n",
    "3. Model : Edisi dari tiap merk mobil.\n",
    "4. Trim : Versi trim dari mobil.\n",
    "5. Body : Tipe bentuk dari mobil.\n",
    "6. Transmission : Transmisi yang digunakan pada mobil.\n",
    "7. VIN : Vehicle Identification Number.\n",
    "8. State : Negara bagian tempat mobil dijual.\n",
    "9. Condition : Kondisi dari mobil pada saat dijual.\n",
    "10. Odometer : Jarak tempuh mobil semenjak tanggal manufacture.\n",
    "11. Color : Warna eksterior dari mobil.\n",
    "12. Interior : Warna interior dari mobil.\n",
    "13. Seller : Penjual dari mobil (Car dealers).\n",
    "14. MMR : Manhiem Market Record, market yang memprediksi harga mobil.\n",
    "15. Sellingprice : Nilai jual mobil.\n",
    "16. Saledate : Tanggal mobil dijual."
   ]
  },
  {
   "cell_type": "markdown",
   "id": "e37675a9-087b-467b-bac6-06c25832ab69",
   "metadata": {
    "id": "e37675a9-087b-467b-bac6-06c25832ab69"
   },
   "source": [
    "## Data Exploration"
   ]
  },
  {
   "cell_type": "code",
   "execution_count": 5,
   "id": "e6f59cea-1da7-42f7-accb-711ef485b1d3",
   "metadata": {
    "colab": {
     "base_uri": "https://localhost:8080/"
    },
    "id": "e6f59cea-1da7-42f7-accb-711ef485b1d3",
    "outputId": "ab0d3558-c7c6-4845-dd7d-a94ec5efd98a"
   },
   "outputs": [
    {
     "name": "stdout",
     "output_type": "stream",
     "text": [
      "<class 'pandas.core.frame.DataFrame'>\n",
      "RangeIndex: 558811 entries, 0 to 558810\n",
      "Data columns (total 16 columns):\n",
      " #   Column        Non-Null Count   Dtype  \n",
      "---  ------        --------------   -----  \n",
      " 0   year          558811 non-null  int64  \n",
      " 1   make          548510 non-null  object \n",
      " 2   model         548412 non-null  object \n",
      " 3   trim          548160 non-null  object \n",
      " 4   body          545616 non-null  object \n",
      " 5   transmission  493458 non-null  object \n",
      " 6   vin           558811 non-null  object \n",
      " 7   state         558811 non-null  object \n",
      " 8   condition     547017 non-null  float64\n",
      " 9   odometer      558717 non-null  float64\n",
      " 10  color         558062 non-null  object \n",
      " 11  interior      558062 non-null  object \n",
      " 12  seller        558811 non-null  object \n",
      " 13  mmr           558811 non-null  int64  \n",
      " 14  sellingprice  558811 non-null  int64  \n",
      " 15  saledate      558811 non-null  object \n",
      "dtypes: float64(2), int64(3), object(11)\n",
      "memory usage: 68.2+ MB\n"
     ]
    }
   ],
   "source": [
    "dfcar.info()"
   ]
  },
  {
   "cell_type": "markdown",
   "id": "6ec366d5-2130-4876-b23a-d534668ebd27",
   "metadata": {
    "id": "6ec366d5-2130-4876-b23a-d534668ebd27"
   },
   "source": [
    "1. Total dari data ada 558811 entries\n",
    "2. Tipe dari data int, float dan object, dan terlihat sudah sesuai dengan kolomnya. Namun, untuk kolom 'saledate' tipe data yang awalnya 'object', dirasa perlu diubah ke date time.\n",
    "3. Terdapat nilai Null pada beberapa fitur"
   ]
  },
  {
   "cell_type": "code",
   "execution_count": 6,
   "id": "eaabaccf-c895-4427-94af-eab43ef8c7a5",
   "metadata": {},
   "outputs": [
    {
     "name": "stdout",
     "output_type": "stream",
     "text": [
      "<class 'pandas.core.frame.DataFrame'>\n",
      "RangeIndex: 558811 entries, 0 to 558810\n",
      "Data columns (total 16 columns):\n",
      " #   Column        Non-Null Count   Dtype              \n",
      "---  ------        --------------   -----              \n",
      " 0   year          558811 non-null  int64              \n",
      " 1   make          548510 non-null  object             \n",
      " 2   model         548412 non-null  object             \n",
      " 3   trim          548160 non-null  object             \n",
      " 4   body          545616 non-null  object             \n",
      " 5   transmission  493458 non-null  object             \n",
      " 6   vin           558811 non-null  object             \n",
      " 7   state         558811 non-null  object             \n",
      " 8   condition     547017 non-null  float64            \n",
      " 9   odometer      558717 non-null  float64            \n",
      " 10  color         558062 non-null  object             \n",
      " 11  interior      558062 non-null  object             \n",
      " 12  seller        558811 non-null  object             \n",
      " 13  mmr           558811 non-null  int64              \n",
      " 14  sellingprice  558811 non-null  int64              \n",
      " 15  saledate      558811 non-null  datetime64[ns, UTC]\n",
      "dtypes: datetime64[ns, UTC](1), float64(2), int64(3), object(10)\n",
      "memory usage: 68.2+ MB\n"
     ]
    }
   ],
   "source": [
    "# Mengubah tipe data object ke datetime\n",
    "dfcar['saledate'] = pd.to_datetime(dfcar['saledate'], utc=True)\n",
    "\n",
    "dfcar.info()"
   ]
  },
  {
   "cell_type": "markdown",
   "id": "d4db1103-bb70-4249-bc84-acee467e7a67",
   "metadata": {},
   "source": [
    "Tipe data 'saledate' yang awalnya object sudah diubah ke date time."
   ]
  },
  {
   "cell_type": "code",
   "execution_count": 7,
   "id": "ca0db44c-3141-41cd-b768-ab3709f115d4",
   "metadata": {
    "colab": {
     "base_uri": "https://localhost:8080/"
    },
    "id": "ca0db44c-3141-41cd-b768-ab3709f115d4",
    "outputId": "6ab50d90-0805-477c-e5d3-fa28a5ca7c3f"
   },
   "outputs": [
    {
     "data": {
      "text/plain": [
       "year                0\n",
       "make            10301\n",
       "model           10399\n",
       "trim            10651\n",
       "body            13195\n",
       "transmission    65353\n",
       "vin                 0\n",
       "state               0\n",
       "condition       11794\n",
       "odometer           94\n",
       "color             749\n",
       "interior          749\n",
       "seller              0\n",
       "mmr                 0\n",
       "sellingprice        0\n",
       "saledate            0\n",
       "dtype: int64"
      ]
     },
     "execution_count": 7,
     "metadata": {},
     "output_type": "execute_result"
    }
   ],
   "source": [
    "# Mengecek null value\n",
    "\n",
    "dfcar.isnull().sum()"
   ]
  },
  {
   "cell_type": "markdown",
   "id": "9987a141-ba15-40ff-8b55-8297871bbf03",
   "metadata": {
    "id": "9987a141-ba15-40ff-8b55-8297871bbf03"
   },
   "source": [
    "Terdapat 9 fitur yang memiliki Null value, yaitu make, model, trim, body, transmission, condition, odometer, color, interior. Perlu diadakan tindak lanjut di Data Cleaning"
   ]
  },
  {
   "cell_type": "code",
   "execution_count": 8,
   "id": "66edb134-abea-4384-aa25-010141c85b73",
   "metadata": {
    "colab": {
     "base_uri": "https://localhost:8080/"
    },
    "id": "66edb134-abea-4384-aa25-010141c85b73",
    "outputId": "2c953519-a91a-40b8-f135-cda0393ea2fb"
   },
   "outputs": [
    {
     "data": {
      "text/plain": [
       "0"
      ]
     },
     "execution_count": 8,
     "metadata": {},
     "output_type": "execute_result"
    }
   ],
   "source": [
    "# Mengecek duplicated rows\n",
    "\n",
    "dfcar.duplicated().sum()"
   ]
  },
  {
   "cell_type": "markdown",
   "id": "08e0e04c-3f2f-4a13-8951-d3d19b87feea",
   "metadata": {
    "id": "08e0e04c-3f2f-4a13-8951-d3d19b87feea"
   },
   "source": [
    "Dataset tidak memiliki data duplikat sehingga tidak diperlukan penanganan."
   ]
  },
  {
   "cell_type": "code",
   "execution_count": 9,
   "id": "814389f3-1ff6-4c9c-aa4e-86e14de7c2de",
   "metadata": {
    "id": "814389f3-1ff6-4c9c-aa4e-86e14de7c2de"
   },
   "outputs": [
    {
     "data": {
      "text/html": [
       "<div>\n",
       "<style scoped>\n",
       "    .dataframe tbody tr th:only-of-type {\n",
       "        vertical-align: middle;\n",
       "    }\n",
       "\n",
       "    .dataframe tbody tr th {\n",
       "        vertical-align: top;\n",
       "    }\n",
       "\n",
       "    .dataframe thead th {\n",
       "        text-align: right;\n",
       "    }\n",
       "</style>\n",
       "<table border=\"1\" class=\"dataframe\">\n",
       "  <thead>\n",
       "    <tr style=\"text-align: right;\">\n",
       "      <th></th>\n",
       "      <th>year</th>\n",
       "      <th>condition</th>\n",
       "      <th>odometer</th>\n",
       "      <th>mmr</th>\n",
       "      <th>sellingprice</th>\n",
       "    </tr>\n",
       "  </thead>\n",
       "  <tbody>\n",
       "    <tr>\n",
       "      <th>count</th>\n",
       "      <td>558811.000</td>\n",
       "      <td>547017.000</td>\n",
       "      <td>558717.000</td>\n",
       "      <td>558811.000</td>\n",
       "      <td>558811.000</td>\n",
       "    </tr>\n",
       "    <tr>\n",
       "      <th>mean</th>\n",
       "      <td>2010.039</td>\n",
       "      <td>3.425</td>\n",
       "      <td>68323.196</td>\n",
       "      <td>13769.325</td>\n",
       "      <td>13611.262</td>\n",
       "    </tr>\n",
       "    <tr>\n",
       "      <th>std</th>\n",
       "      <td>3.967</td>\n",
       "      <td>0.949</td>\n",
       "      <td>53397.753</td>\n",
       "      <td>9679.875</td>\n",
       "      <td>9749.657</td>\n",
       "    </tr>\n",
       "    <tr>\n",
       "      <th>min</th>\n",
       "      <td>1982.000</td>\n",
       "      <td>1.000</td>\n",
       "      <td>1.000</td>\n",
       "      <td>25.000</td>\n",
       "      <td>1.000</td>\n",
       "    </tr>\n",
       "    <tr>\n",
       "      <th>25%</th>\n",
       "      <td>2007.000</td>\n",
       "      <td>2.700</td>\n",
       "      <td>28374.000</td>\n",
       "      <td>7100.000</td>\n",
       "      <td>6900.000</td>\n",
       "    </tr>\n",
       "    <tr>\n",
       "      <th>50%</th>\n",
       "      <td>2012.000</td>\n",
       "      <td>3.600</td>\n",
       "      <td>52256.000</td>\n",
       "      <td>12250.000</td>\n",
       "      <td>12100.000</td>\n",
       "    </tr>\n",
       "    <tr>\n",
       "      <th>75%</th>\n",
       "      <td>2013.000</td>\n",
       "      <td>4.200</td>\n",
       "      <td>99112.000</td>\n",
       "      <td>18300.000</td>\n",
       "      <td>18200.000</td>\n",
       "    </tr>\n",
       "    <tr>\n",
       "      <th>max</th>\n",
       "      <td>2015.000</td>\n",
       "      <td>5.000</td>\n",
       "      <td>999999.000</td>\n",
       "      <td>182000.000</td>\n",
       "      <td>230000.000</td>\n",
       "    </tr>\n",
       "  </tbody>\n",
       "</table>\n",
       "</div>"
      ],
      "text/plain": [
       "            year  condition   odometer        mmr  sellingprice\n",
       "count 558811.000 547017.000 558717.000 558811.000    558811.000\n",
       "mean    2010.039      3.425  68323.196  13769.325     13611.262\n",
       "std        3.967      0.949  53397.753   9679.875      9749.657\n",
       "min     1982.000      1.000      1.000     25.000         1.000\n",
       "25%     2007.000      2.700  28374.000   7100.000      6900.000\n",
       "50%     2012.000      3.600  52256.000  12250.000     12100.000\n",
       "75%     2013.000      4.200  99112.000  18300.000     18200.000\n",
       "max     2015.000      5.000 999999.000 182000.000    230000.000"
      ]
     },
     "execution_count": 9,
     "metadata": {},
     "output_type": "execute_result"
    }
   ],
   "source": [
    "# Mengkategorikan fitur sesuai dari tipe data\n",
    "num = ['year', 'condition', 'odometer', 'mmr', 'sellingprice']\n",
    "cat = ['make', 'model', 'trim', 'body', 'transmission', 'vin', 'state', 'color', 'interior', 'seller', 'saledate']\n",
    "\n",
    "# Membatasi angka setelah koma hingga hanya 3 angka\n",
    "pd.set_option('display.float_format', lambda x: '%.3f' % x)\n",
    "\n",
    "dfcar[num].describe()"
   ]
  },
  {
   "cell_type": "markdown",
   "id": "16c11d22-9db4-4267-a109-8020c2ef6f75",
   "metadata": {
    "id": "16c11d22-9db4-4267-a109-8020c2ef6f75"
   },
   "source": [
    "1. Condition memiliki value antara 1-5.\n",
    "2. Nilai dari odometer terlihat memiliki jarak yang jauh antara min dan max dimana nilai min nya adalah 1 dan max nya hampir 1 juta. Tentu ini adalah hal yang terkesan janggal. Selain itu, nilai mean dan median nya juga terhitung sangat jauh yaitu 16000.\n",
    "3. Secara keseluruhan, nilai MMR dan sellingprice tidak terlalu berbeda. Namun, nilai min-max dan mean-median nya sangat jauh, sehingga perlu diperhatikan lebih lanjut untuk tahap berikutnya.\n",
    "4. Beberapa kolom di fitur numerical juga terdapat null value, sehingga perlu ditangani pada tahap berikutnya."
   ]
  },
  {
   "cell_type": "code",
   "execution_count": 10,
   "id": "e1baf8cf-e81b-4e12-ac83-fca0e71d91ec",
   "metadata": {
    "colab": {
     "base_uri": "https://localhost:8080/",
     "height": 219
    },
    "id": "e1baf8cf-e81b-4e12-ac83-fca0e71d91ec",
    "outputId": "15c77de3-3a03-4450-e3aa-2fa6a4c4096a"
   },
   "outputs": [
    {
     "data": {
      "text/html": [
       "<div>\n",
       "<style scoped>\n",
       "    .dataframe tbody tr th:only-of-type {\n",
       "        vertical-align: middle;\n",
       "    }\n",
       "\n",
       "    .dataframe tbody tr th {\n",
       "        vertical-align: top;\n",
       "    }\n",
       "\n",
       "    .dataframe thead th {\n",
       "        text-align: right;\n",
       "    }\n",
       "</style>\n",
       "<table border=\"1\" class=\"dataframe\">\n",
       "  <thead>\n",
       "    <tr style=\"text-align: right;\">\n",
       "      <th></th>\n",
       "      <th>make</th>\n",
       "      <th>model</th>\n",
       "      <th>trim</th>\n",
       "      <th>body</th>\n",
       "      <th>transmission</th>\n",
       "      <th>vin</th>\n",
       "      <th>state</th>\n",
       "      <th>color</th>\n",
       "      <th>interior</th>\n",
       "      <th>seller</th>\n",
       "      <th>saledate</th>\n",
       "    </tr>\n",
       "  </thead>\n",
       "  <tbody>\n",
       "    <tr>\n",
       "      <th>count</th>\n",
       "      <td>548510</td>\n",
       "      <td>548412</td>\n",
       "      <td>548160</td>\n",
       "      <td>545616</td>\n",
       "      <td>493458</td>\n",
       "      <td>558811</td>\n",
       "      <td>558811</td>\n",
       "      <td>558062</td>\n",
       "      <td>558062</td>\n",
       "      <td>558811</td>\n",
       "      <td>558811</td>\n",
       "    </tr>\n",
       "    <tr>\n",
       "      <th>unique</th>\n",
       "      <td>96</td>\n",
       "      <td>973</td>\n",
       "      <td>1975</td>\n",
       "      <td>86</td>\n",
       "      <td>2</td>\n",
       "      <td>550296</td>\n",
       "      <td>38</td>\n",
       "      <td>20</td>\n",
       "      <td>17</td>\n",
       "      <td>14264</td>\n",
       "      <td>3745</td>\n",
       "    </tr>\n",
       "    <tr>\n",
       "      <th>top</th>\n",
       "      <td>Ford</td>\n",
       "      <td>Altima</td>\n",
       "      <td>Base</td>\n",
       "      <td>Sedan</td>\n",
       "      <td>automatic</td>\n",
       "      <td>wbanv13588cz57827</td>\n",
       "      <td>fl</td>\n",
       "      <td>black</td>\n",
       "      <td>black</td>\n",
       "      <td>nissan-infiniti lt</td>\n",
       "      <td>2015-02-09 17:30:00+00:00</td>\n",
       "    </tr>\n",
       "    <tr>\n",
       "      <th>freq</th>\n",
       "      <td>93554</td>\n",
       "      <td>19349</td>\n",
       "      <td>55817</td>\n",
       "      <td>199437</td>\n",
       "      <td>475914</td>\n",
       "      <td>5</td>\n",
       "      <td>82945</td>\n",
       "      <td>110970</td>\n",
       "      <td>244325</td>\n",
       "      <td>19693</td>\n",
       "      <td>5334</td>\n",
       "    </tr>\n",
       "    <tr>\n",
       "      <th>first</th>\n",
       "      <td>NaN</td>\n",
       "      <td>NaN</td>\n",
       "      <td>NaN</td>\n",
       "      <td>NaN</td>\n",
       "      <td>NaN</td>\n",
       "      <td>NaN</td>\n",
       "      <td>NaN</td>\n",
       "      <td>NaN</td>\n",
       "      <td>NaN</td>\n",
       "      <td>NaN</td>\n",
       "      <td>2014-01-01 01:15:00+00:00</td>\n",
       "    </tr>\n",
       "    <tr>\n",
       "      <th>last</th>\n",
       "      <td>NaN</td>\n",
       "      <td>NaN</td>\n",
       "      <td>NaN</td>\n",
       "      <td>NaN</td>\n",
       "      <td>NaN</td>\n",
       "      <td>NaN</td>\n",
       "      <td>NaN</td>\n",
       "      <td>NaN</td>\n",
       "      <td>NaN</td>\n",
       "      <td>NaN</td>\n",
       "      <td>2015-07-20 19:30:00+00:00</td>\n",
       "    </tr>\n",
       "  </tbody>\n",
       "</table>\n",
       "</div>"
      ],
      "text/plain": [
       "          make   model    trim    body transmission                vin  \\\n",
       "count   548510  548412  548160  545616       493458             558811   \n",
       "unique      96     973    1975      86            2             550296   \n",
       "top       Ford  Altima    Base   Sedan    automatic  wbanv13588cz57827   \n",
       "freq     93554   19349   55817  199437       475914                  5   \n",
       "first      NaN     NaN     NaN     NaN          NaN                NaN   \n",
       "last       NaN     NaN     NaN     NaN          NaN                NaN   \n",
       "\n",
       "         state   color interior              seller                   saledate  \n",
       "count   558811  558062   558062              558811                     558811  \n",
       "unique      38      20       17               14264                       3745  \n",
       "top         fl   black    black  nissan-infiniti lt  2015-02-09 17:30:00+00:00  \n",
       "freq     82945  110970   244325               19693                       5334  \n",
       "first      NaN     NaN      NaN                 NaN  2014-01-01 01:15:00+00:00  \n",
       "last       NaN     NaN      NaN                 NaN  2015-07-20 19:30:00+00:00  "
      ]
     },
     "execution_count": 10,
     "metadata": {},
     "output_type": "execute_result"
    }
   ],
   "source": [
    "dfcar[cat].describe()"
   ]
  },
  {
   "cell_type": "markdown",
   "id": "e1ed0e70-40d4-4bdf-a8c0-bdc27a33e25e",
   "metadata": {
    "id": "e1ed0e70-40d4-4bdf-a8c0-bdc27a33e25e"
   },
   "source": [
    "1. Dari data diatas, kita bisa melihat secara sekilas nilai apa yang paling teratas, sering muncul, dan berapa jumlah unique value dari masing-masing fitur.\n",
    "2. Sebagai contoh, Ford merupakan brand yang paling populer diantara 96 total brand lain. Selain itu, mobil tipe sedan juga termasuk yang paling favorit.\n",
    "3. Transmisi automatic lebih dicari customer dibanding manual dengan jumlah lebih dari 90%\n",
    "4. Warna hitam tetap mendominasi baik di eksterior maupun interior."
   ]
  },
  {
   "cell_type": "markdown",
   "id": "15f0022e-a567-4ac4-9125-e4371b90e081",
   "metadata": {},
   "source": [
    "----------"
   ]
  },
  {
   "cell_type": "markdown",
   "id": "6fc30832-f6d1-4cde-ab0c-b71dc713adda",
   "metadata": {
    "tags": []
   },
   "source": [
    "# EDA (Exploratory Data Analysis)"
   ]
  },
  {
   "cell_type": "markdown",
   "id": "6102a14e-a360-4e97-9f8d-76405e2d496a",
   "metadata": {},
   "source": [
    "-------"
   ]
  },
  {
   "cell_type": "markdown",
   "id": "Ba5xh58k5ffv",
   "metadata": {
    "id": "Ba5xh58k5ffv",
    "tags": []
   },
   "source": [
    "## UNIVARIATE ANALYSIS "
   ]
  },
  {
   "cell_type": "markdown",
   "id": "660834ec-f740-4b55-8897-30b4d7216e89",
   "metadata": {},
   "source": [
    "Pada tahap EDA, kita akan menganalisis baik analisis univariate ataupun multivariate. Pada univariate analysis, kami menganalisis fitur-fitur yang sekiranya memberikan dampak besar terhadap harga jual mobil. Tak hanya itu, kami juga memvisualisasikan bagaimana persebaran data pada dataset baik ditinjau dari outliers, skewness, null value, dll."
   ]
  },
  {
   "cell_type": "markdown",
   "id": "86d1eb47-2eb9-4612-aef6-47df8d10103a",
   "metadata": {
    "tags": []
   },
   "source": [
    "### Unique Value From Each Feature"
   ]
  },
  {
   "cell_type": "code",
   "execution_count": 11,
   "id": "23a2c9a0-6e10-486b-a923-fa58aad9a075",
   "metadata": {},
   "outputs": [
    {
     "data": {
      "text/plain": [
       "array([2015, 2014, 2013, 2012, 2011, 2010, 2009, 2008, 2007, 2006, 2005,\n",
       "       2004, 2003, 2002, 2001, 2000, 1999, 1998, 1995, 1996, 1997, 1987,\n",
       "       1994, 1993, 1992, 1989, 1991, 1990, 1986, 1985, 1988, 1984, 1982,\n",
       "       1983], dtype=int64)"
      ]
     },
     "execution_count": 11,
     "metadata": {},
     "output_type": "execute_result"
    }
   ],
   "source": [
    "dfcar['year'].unique()"
   ]
  },
  {
   "cell_type": "markdown",
   "id": "2867af89-0569-4bf2-8940-4a6502b04170",
   "metadata": {},
   "source": [
    "Semua value sudah sesuai, yaitu berupa angka."
   ]
  },
  {
   "cell_type": "code",
   "execution_count": 12,
   "id": "713755c1-ecd8-4b0c-97ce-22d60f8edc13",
   "metadata": {},
   "outputs": [
    {
     "data": {
      "text/plain": [
       "array(['Kia', 'BMW', 'Volvo', 'Nissan', 'Chevrolet', 'Audi', 'Ford',\n",
       "       'Hyundai', 'Buick', 'Cadillac', 'Acura', 'Lexus', 'Infiniti',\n",
       "       'Jeep', 'Mercedes-Benz', 'Mitsubishi', 'Mazda', 'MINI',\n",
       "       'Land Rover', 'Lincoln', 'lincoln', 'Jaguar', 'Volkswagen',\n",
       "       'Toyota', 'Subaru', 'Scion', 'Porsche', nan, 'bmw', 'Dodge',\n",
       "       'FIAT', 'Chrysler', 'ford', 'Ferrari', 'Honda', 'GMC',\n",
       "       'mitsubishi', 'Ram', 'smart', 'chevrolet', 'Bentley', 'chrysler',\n",
       "       'pontiac', 'Pontiac', 'Saturn', 'Maserati', 'Mercury', 'HUMMER',\n",
       "       'landrover', 'cadillac', 'land rover', 'mercedes', 'mazda',\n",
       "       'toyota', 'lexus', 'gmc truck', 'honda', 'nissan', 'porsche',\n",
       "       'Saab', 'Suzuki', 'dodge', 'subaru', 'Oldsmobile', 'oldsmobile',\n",
       "       'hyundai', 'jeep', 'Isuzu', 'dodge tk', 'Geo', 'acura',\n",
       "       'volkswagen', 'suzuki', 'kia', 'audi', 'Rolls-Royce', 'gmc',\n",
       "       'maserati', 'mazda tk', 'mercury', 'buick', 'hyundai tk',\n",
       "       'mercedes-b', 'vw', 'Daewoo', 'chev truck', 'ford tk', 'plymouth',\n",
       "       'Plymouth', 'ford truck', 'Tesla', 'airstream', 'dot',\n",
       "       'Aston Martin', 'Fisker', 'Lamborghini', 'Lotus'], dtype=object)"
      ]
     },
     "execution_count": 12,
     "metadata": {},
     "output_type": "execute_result"
    }
   ],
   "source": [
    "dfcar['make'].unique()"
   ]
  },
  {
   "cell_type": "markdown",
   "id": "7957a0cf-739b-46ce-868a-0a58e2031f65",
   "metadata": {},
   "source": [
    "Terdapat null value pada fitur 'make'.\n",
    "Value dari kolom 'make' masih terlalu beragam dimana terdapat kata yang huruf awal kapital, kata yang berisi kapital semua, kata yang berisi lower case semua. Oleh karena itu, kita akan mengubah value nya menjadi lower case semua di tahap berikutnya. "
   ]
  },
  {
   "cell_type": "code",
   "execution_count": 13,
   "id": "4cde776b-78da-40b1-a14f-4fa57f253665",
   "metadata": {},
   "outputs": [
    {
     "data": {
      "text/plain": [
       "array(['automatic', nan, 'manual'], dtype=object)"
      ]
     },
     "execution_count": 13,
     "metadata": {},
     "output_type": "execute_result"
    }
   ],
   "source": [
    "dfcar['transmission'].unique()"
   ]
  },
  {
   "cell_type": "markdown",
   "id": "90252bb0-99a5-4408-a73d-ac3f141b880d",
   "metadata": {},
   "source": [
    "Seperti yang kita tahu terdapat 2 jenis transmisi, yaitu manual dan automatic. Namun, terdapat value 'NaN' di dalam kolom 'transmission' sehingga perlu dijadikan catatan untuk tahap selanjutnya."
   ]
  },
  {
   "cell_type": "code",
   "execution_count": 14,
   "id": "11f88595-1cf7-40ad-a7d9-423301780c56",
   "metadata": {},
   "outputs": [
    {
     "data": {
      "text/plain": [
       "array([5. , 4.5, 4.1, 4.3, 1. , 3.4, 2. , 4.2, 3. , 4.8, nan, 4.9, 1.7,\n",
       "       1.9, 2.9, 3.8, 4.4, 4.7, 3.2, 4. , 2.5, 3.7, 3.9, 3.1, 2.8, 4.6,\n",
       "       3.6, 3.5, 2.6, 2.1, 2.2, 2.7, 2.4, 3.3, 2.3, 1.5, 1.6, 1.8, 1.2,\n",
       "       1.4, 1.1, 1.3])"
      ]
     },
     "execution_count": 14,
     "metadata": {},
     "output_type": "execute_result"
    }
   ],
   "source": [
    "dfcar['condition'].unique()"
   ]
  },
  {
   "cell_type": "markdown",
   "id": "e8971f07-6e54-4acc-990c-7cb6a0a8c08b",
   "metadata": {},
   "source": [
    "Untuk kondisi mobil bervariasi dari 1 sampai 5, serta terdapat null value."
   ]
  },
  {
   "cell_type": "code",
   "execution_count": 15,
   "id": "452c3cc1-f6fb-4dfe-95e0-8648cc1b5ee4",
   "metadata": {},
   "outputs": [
    {
     "data": {
      "text/plain": [
       "array(['ca', 'tx', 'pa', 'mn', 'az', 'wi', 'tn', 'md', 'fl', 'ne', 'nj',\n",
       "       'nv', 'oh', 'mi', 'ga', 'va', 'sc', 'nc', 'in', 'il', 'co', 'ut',\n",
       "       'mo', 'ny', 'ma', 'pr', 'or', 'la', 'wa', 'hi', 'qc', 'ab', 'on',\n",
       "       'ok', 'ms', 'nm', 'al', 'ns'], dtype=object)"
      ]
     },
     "execution_count": 15,
     "metadata": {},
     "output_type": "execute_result"
    }
   ],
   "source": [
    "dfcar['state'].unique()"
   ]
  },
  {
   "cell_type": "markdown",
   "id": "0df8176c-18f0-4781-ae63-3f2ad53dc2df",
   "metadata": {},
   "source": [
    "Semua value di kolom 'state' sudah sesuai. Tidak ada null value, namun kita bisa mengubah nya menjadi upper case seperti lazimnya kode wilayah yang menggunakan kapital. "
   ]
  },
  {
   "cell_type": "markdown",
   "id": "-Hb5ALsB0ofS",
   "metadata": {
    "id": "-Hb5ALsB0ofS",
    "tags": []
   },
   "source": [
    "### Outlier Numerik (year, condition, odometer, MMR, sellingprice)"
   ]
  },
  {
   "cell_type": "code",
   "execution_count": 20,
   "id": "Ftysoa1g5oBO",
   "metadata": {
    "colab": {
     "base_uri": "https://localhost:8080/",
     "height": 487
    },
    "id": "Ftysoa1g5oBO",
    "outputId": "6c78cbf1-6140-4e99-9d0e-65f7ad3c8d4a"
   },
   "outputs": [
    {
     "data": {
      "image/png": "[encoded data removed]",
      "text/plain": [
       "<Figure size 600x300 with 5 Axes>"
      ]
     },
     "metadata": {},
     "output_type": "display_data"
    }
   ],
   "source": [
    "# Melihat penampilan outlier\n",
    "\n",
    "plt.figure(figsize=(6, 3))\n",
    "for i in range(0, len(num)):\n",
    "    plt.subplot(1, len(num), i+1)\n",
    "    sns.boxplot(dfcar[num[i]], color='red', orient='v')\n",
    "    plt.title(num[i])\n",
    "    plt.tight_layout()"
   ]
  },
  {
   "cell_type": "markdown",
   "id": "DIs92azw8AvB",
   "metadata": {
    "id": "DIs92azw8AvB"
   },
   "source": [
    "Dapat dilihat bahwa mmr dan selling price memiliki outlier paling banyak, begitu juga dengan kolom odometer dan year. Untuk kuartil dan mediannya pun juga terkesan jauh. Hal ini dapat terjadi karena banyaknya data mobil (500k++) sehingga nilai mmr dan selling price mapun odometer juga sangat bervariasi. Kolom yang terlihat paling normal hanyalah kolom 'condition'. Hasil analisis ini merupakan bentuk visual dari statistik data yang telah kita lakukan sebelumnya pada tahap Data Exploration."
   ]
  },
  {
   "cell_type": "markdown",
   "id": "21iknE3G0vnd",
   "metadata": {
    "id": "21iknE3G0vnd",
    "tags": []
   },
   "source": [
    "### Distribusi Data (year, condition, odometer, MMR, sellingprice)"
   ]
  },
  {
   "cell_type": "code",
   "execution_count": 18,
   "id": "FxFYNcny8yfe",
   "metadata": {
    "colab": {
     "base_uri": "https://localhost:8080/",
     "height": 1000
    },
    "id": "FxFYNcny8yfe",
    "outputId": "63c05508-6713-4343-d055-9e05f176bc0f"
   },
   "outputs": [
    {
     "data": {
      "image/png": "[encoded data removed]",
      "text/plain": [
       "<Figure size 2000x400 with 5 Axes>"
      ]
     },
     "metadata": {},
     "output_type": "display_data"
    }
   ],
   "source": [
    "# Melihat grafik distribusi\n",
    "\n",
    "plt.figure(figsize=(20, 4))\n",
    "for i in range(0, len(num)):\n",
    "    plt.subplot(1, 5, i+1)\n",
    "    sns.distplot(dfcar[num[i]], color='blue')\n",
    "    plt.tight_layout()"
   ]
  },
  {
   "cell_type": "markdown",
   "id": "eQVtOPff9qbT",
   "metadata": {
    "id": "eQVtOPff9qbT"
   },
   "source": [
    "Dari grafik diatas dapat terlihat :\n",
    "1. Dari kolom 'year' kita bisa melihat bahwa penjualan cenderung mengalami peningkatan pada setiap tahunnya dan puncak penjualan berada di antara tahun 2010 hingga 2015. Kita juga bisa melihat bahwa kolom 'year' termasuk left-skewed.\n",
    "2. Pada grafik 'condition', kondisi mobil yang berada di kisaran angka 2 menjadi mayoritas dari kondisi lainnya. Hal ini menunjukkan bahwa kondisi mobil bekas bernilai kurang baik. Namun, tidak sedikit juga kondisi mobil yang bernilai 3 keatas hingga 4. \n",
    "3. Untuk odometer dapat terlihat bahwa mayoritas berada di angka 0 hingga 0.2 yang artinya odometer berkisar antara 0 hingga 200k. Sedangkan untuk pemakaian mobil diatas 200k terhitung jarang. \n",
    "4. Kolom 'mmr' dan 'sellingprice' terlihat serupa dimana harga jual mobil berkisar di angka 0-50000. \n",
    "5. Dari kolom-kolom diatas, kolom 'odometer', 'mmr', dan 'sellingprice' termasuk right-skewed."
   ]
  },
  {
   "cell_type": "markdown",
   "id": "5ab9e763-3496-4496-bd59-045faa10cefa",
   "metadata": {
    "tags": []
   },
   "source": [
    "### Visualize Null Values"
   ]
  },
  {
   "cell_type": "code",
   "execution_count": 22,
   "id": "46a6f792-e448-442d-a19d-756d4b0defd4",
   "metadata": {},
   "outputs": [
    {
     "data": {
      "text/plain": [
       "<Axes: >"
      ]
     },
     "execution_count": 22,
     "metadata": {},
     "output_type": "execute_result"
    },
    {
     "data": {
      "image/png": "[encoded data removed]",
      "text/plain": [
       "<Figure size 2500x1000 with 2 Axes>"
      ]
     },
     "metadata": {},
     "output_type": "display_data"
    }
   ],
   "source": [
    "# Melihat null values dari keseluruhan dataset\n",
    "\n",
    "msno.matrix(dfcar)"
   ]
  },
  {
   "cell_type": "markdown",
   "id": "f0e466c9-5264-4a14-b5c4-af4d0d9bde57",
   "metadata": {},
   "source": [
    "Pada matrix diatas kita dapat melihat kolom-kolom yang memiliki null value secara visual, yaitu kolom 'make', 'model', 'trim', 'body', 'transmission', 'condition', 'color', 'interior'. Sebenarnya kolom 'odometer' juga memiliki null value namun tidak terlihat karena jumlah null value yang dimiliki sangat sedikit, yaitu hanya 94 dari 500000++ data seperti yang terlihat pada saat Data Exploration sebelumnya."
   ]
  },
  {
   "cell_type": "markdown",
   "id": "26d16a36-f701-42d8-ae35-28fce64835f9",
   "metadata": {
    "tags": []
   },
   "source": [
    "### Check Nilai Min dan Max"
   ]
  },
  {
   "cell_type": "markdown",
   "id": "1ce0bd64-3f67-4d60-be7d-cb6f2c041dc9",
   "metadata": {},
   "source": [
    "Seperti analisis sebelumnya dimana kita menemukan nilai min dan max yang terkesan tidak masuk akal, maka kita akan mengecek data yang mengandung nilai tersebut.  \n",
    "\n",
    "Beberapa kolom tersebut adalah 'odometer', 'mmr', dan 'sellingprice'."
   ]
  },
  {
   "cell_type": "markdown",
   "id": "55346aec-2020-4673-992d-d4fae9c1a731",
   "metadata": {},
   "source": [
    "**1. Nilai min dan max dari kolom Odometer**"
   ]
  },
  {
   "cell_type": "code",
   "execution_count": 52,
   "id": "ed97bef9-9b30-4d6d-bc01-abda351dafac",
   "metadata": {},
   "outputs": [
    {
     "data": {
      "text/html": [
       "<div>\n",
       "<style scoped>\n",
       "    .dataframe tbody tr th:only-of-type {\n",
       "        vertical-align: middle;\n",
       "    }\n",
       "\n",
       "    .dataframe tbody tr th {\n",
       "        vertical-align: top;\n",
       "    }\n",
       "\n",
       "    .dataframe thead th {\n",
       "        text-align: right;\n",
       "    }\n",
       "</style>\n",
       "<table border=\"1\" class=\"dataframe\">\n",
       "  <thead>\n",
       "    <tr style=\"text-align: right;\">\n",
       "      <th></th>\n",
       "      <th>year</th>\n",
       "      <th>make</th>\n",
       "      <th>model</th>\n",
       "      <th>trim</th>\n",
       "      <th>body</th>\n",
       "      <th>transmission</th>\n",
       "      <th>vin</th>\n",
       "      <th>state</th>\n",
       "      <th>condition</th>\n",
       "      <th>odometer</th>\n",
       "      <th>color</th>\n",
       "      <th>interior</th>\n",
       "      <th>seller</th>\n",
       "      <th>mmr</th>\n",
       "      <th>sellingprice</th>\n",
       "      <th>saledate</th>\n",
       "    </tr>\n",
       "  </thead>\n",
       "  <tbody>\n",
       "    <tr>\n",
       "      <th>697</th>\n",
       "      <td>2013</td>\n",
       "      <td>Nissan</td>\n",
       "      <td>Maxima</td>\n",
       "      <td>3.5 S</td>\n",
       "      <td>Sedan</td>\n",
       "      <td>automatic</td>\n",
       "      <td>1n4aa5apxdc839917</td>\n",
       "      <td>ca</td>\n",
       "      <td>1.000</td>\n",
       "      <td>1.000</td>\n",
       "      <td>gray</td>\n",
       "      <td>black</td>\n",
       "      <td>enterprise vehicle exchange / tra / rental / t...</td>\n",
       "      <td>16950</td>\n",
       "      <td>1000</td>\n",
       "      <td>2015-01-13 05:00:00+00:00</td>\n",
       "    </tr>\n",
       "    <tr>\n",
       "      <th>1000</th>\n",
       "      <td>2012</td>\n",
       "      <td>Chrysler</td>\n",
       "      <td>200</td>\n",
       "      <td>LX</td>\n",
       "      <td>Sedan</td>\n",
       "      <td>automatic</td>\n",
       "      <td>1c3ccbab7cn236141</td>\n",
       "      <td>ca</td>\n",
       "      <td>NaN</td>\n",
       "      <td>1.000</td>\n",
       "      <td>gray</td>\n",
       "      <td>black</td>\n",
       "      <td>santander consumer</td>\n",
       "      <td>10450</td>\n",
       "      <td>1300</td>\n",
       "      <td>2014-12-16 05:00:00+00:00</td>\n",
       "    </tr>\n",
       "    <tr>\n",
       "      <th>1723</th>\n",
       "      <td>2012</td>\n",
       "      <td>Mercedes-Benz</td>\n",
       "      <td>M-Class</td>\n",
       "      <td>ML63 AMG</td>\n",
       "      <td>SUV</td>\n",
       "      <td>NaN</td>\n",
       "      <td>4jgda7eb0ca049551</td>\n",
       "      <td>ca</td>\n",
       "      <td>NaN</td>\n",
       "      <td>1.000</td>\n",
       "      <td>NaN</td>\n",
       "      <td>NaN</td>\n",
       "      <td>high bid trading co inc</td>\n",
       "      <td>69000</td>\n",
       "      <td>18500</td>\n",
       "      <td>2014-12-18 04:00:00+00:00</td>\n",
       "    </tr>\n",
       "    <tr>\n",
       "      <th>2082</th>\n",
       "      <td>2011</td>\n",
       "      <td>NaN</td>\n",
       "      <td>NaN</td>\n",
       "      <td>NaN</td>\n",
       "      <td>NaN</td>\n",
       "      <td>automatic</td>\n",
       "      <td>1ftlr1fe5bpa06821</td>\n",
       "      <td>ca</td>\n",
       "      <td>NaN</td>\n",
       "      <td>1.000</td>\n",
       "      <td>white</td>\n",
       "      <td>—</td>\n",
       "      <td>onemain rem/e motorcars</td>\n",
       "      <td>18300</td>\n",
       "      <td>11500</td>\n",
       "      <td>2014-12-18 04:00:00+00:00</td>\n",
       "    </tr>\n",
       "    <tr>\n",
       "      <th>2942</th>\n",
       "      <td>2009</td>\n",
       "      <td>Honda</td>\n",
       "      <td>Civic</td>\n",
       "      <td>LX</td>\n",
       "      <td>Sedan</td>\n",
       "      <td>automatic</td>\n",
       "      <td>2hgfa16579h341583</td>\n",
       "      <td>ca</td>\n",
       "      <td>3.000</td>\n",
       "      <td>1.000</td>\n",
       "      <td>silver</td>\n",
       "      <td>gray</td>\n",
       "      <td>ahfc/honda lease trust/hvt, inc.</td>\n",
       "      <td>9325</td>\n",
       "      <td>1000</td>\n",
       "      <td>2015-06-30 03:00:00+00:00</td>\n",
       "    </tr>\n",
       "    <tr>\n",
       "      <th>...</th>\n",
       "      <td>...</td>\n",
       "      <td>...</td>\n",
       "      <td>...</td>\n",
       "      <td>...</td>\n",
       "      <td>...</td>\n",
       "      <td>...</td>\n",
       "      <td>...</td>\n",
       "      <td>...</td>\n",
       "      <td>...</td>\n",
       "      <td>...</td>\n",
       "      <td>...</td>\n",
       "      <td>...</td>\n",
       "      <td>...</td>\n",
       "      <td>...</td>\n",
       "      <td>...</td>\n",
       "      <td>...</td>\n",
       "    </tr>\n",
       "    <tr>\n",
       "      <th>551550</th>\n",
       "      <td>2002</td>\n",
       "      <td>Saturn</td>\n",
       "      <td>S-Series</td>\n",
       "      <td>SL2</td>\n",
       "      <td>Sedan</td>\n",
       "      <td>NaN</td>\n",
       "      <td>1g8zj54702z304849</td>\n",
       "      <td>wa</td>\n",
       "      <td>2.000</td>\n",
       "      <td>1.000</td>\n",
       "      <td>silver</td>\n",
       "      <td>black</td>\n",
       "      <td>donate for charity</td>\n",
       "      <td>1700</td>\n",
       "      <td>350</td>\n",
       "      <td>2015-06-16 22:30:00+00:00</td>\n",
       "    </tr>\n",
       "    <tr>\n",
       "      <th>551596</th>\n",
       "      <td>2000</td>\n",
       "      <td>Subaru</td>\n",
       "      <td>Outback</td>\n",
       "      <td>Limited</td>\n",
       "      <td>wagon</td>\n",
       "      <td>automatic</td>\n",
       "      <td>4s3bh6862y7671346</td>\n",
       "      <td>wa</td>\n",
       "      <td>2.000</td>\n",
       "      <td>1.000</td>\n",
       "      <td>black</td>\n",
       "      <td>gray</td>\n",
       "      <td>donate for charity</td>\n",
       "      <td>3025</td>\n",
       "      <td>1050</td>\n",
       "      <td>2015-06-16 22:30:00+00:00</td>\n",
       "    </tr>\n",
       "    <tr>\n",
       "      <th>553939</th>\n",
       "      <td>2012</td>\n",
       "      <td>Ford</td>\n",
       "      <td>Taurus</td>\n",
       "      <td>SE</td>\n",
       "      <td>sedan</td>\n",
       "      <td>automatic</td>\n",
       "      <td>1fahp2dw4cg130924</td>\n",
       "      <td>ca</td>\n",
       "      <td>3.300</td>\n",
       "      <td>1.000</td>\n",
       "      <td>red</td>\n",
       "      <td>beige</td>\n",
       "      <td>high performance capital</td>\n",
       "      <td>12650</td>\n",
       "      <td>3700</td>\n",
       "      <td>2015-06-23 22:30:00+00:00</td>\n",
       "    </tr>\n",
       "    <tr>\n",
       "      <th>557280</th>\n",
       "      <td>2001</td>\n",
       "      <td>Dodge</td>\n",
       "      <td>Ram Pickup 1500</td>\n",
       "      <td>ST</td>\n",
       "      <td>regular cab</td>\n",
       "      <td>automatic</td>\n",
       "      <td>1b7hc16x31s209808</td>\n",
       "      <td>ms</td>\n",
       "      <td>1.000</td>\n",
       "      <td>1.000</td>\n",
       "      <td>white</td>\n",
       "      <td>gray</td>\n",
       "      <td>select remarketing group llc/midwest title loans</td>\n",
       "      <td>1750</td>\n",
       "      <td>300</td>\n",
       "      <td>2015-06-17 22:02:00+00:00</td>\n",
       "    </tr>\n",
       "    <tr>\n",
       "      <th>558752</th>\n",
       "      <td>2015</td>\n",
       "      <td>Nissan</td>\n",
       "      <td>Altima</td>\n",
       "      <td>2.5 S</td>\n",
       "      <td>sedan</td>\n",
       "      <td>NaN</td>\n",
       "      <td>1n4al3ap2fn332581</td>\n",
       "      <td>tx</td>\n",
       "      <td>1.000</td>\n",
       "      <td>1.000</td>\n",
       "      <td>red</td>\n",
       "      <td>gray</td>\n",
       "      <td>hertz/tra</td>\n",
       "      <td>16000</td>\n",
       "      <td>4000</td>\n",
       "      <td>2015-06-25 00:10:00+00:00</td>\n",
       "    </tr>\n",
       "  </tbody>\n",
       "</table>\n",
       "<p>1315 rows × 16 columns</p>\n",
       "</div>"
      ],
      "text/plain": [
       "        year           make            model      trim         body  \\\n",
       "697     2013         Nissan           Maxima     3.5 S        Sedan   \n",
       "1000    2012       Chrysler              200        LX        Sedan   \n",
       "1723    2012  Mercedes-Benz          M-Class  ML63 AMG          SUV   \n",
       "2082    2011            NaN              NaN       NaN          NaN   \n",
       "2942    2009          Honda            Civic        LX        Sedan   \n",
       "...      ...            ...              ...       ...          ...   \n",
       "551550  2002         Saturn         S-Series       SL2        Sedan   \n",
       "551596  2000         Subaru          Outback   Limited        wagon   \n",
       "553939  2012           Ford           Taurus        SE        sedan   \n",
       "557280  2001          Dodge  Ram Pickup 1500        ST  regular cab   \n",
       "558752  2015         Nissan           Altima     2.5 S        sedan   \n",
       "\n",
       "       transmission                vin state  condition  odometer   color  \\\n",
       "697       automatic  1n4aa5apxdc839917    ca      1.000     1.000    gray   \n",
       "1000      automatic  1c3ccbab7cn236141    ca        NaN     1.000    gray   \n",
       "1723            NaN  4jgda7eb0ca049551    ca        NaN     1.000     NaN   \n",
       "2082      automatic  1ftlr1fe5bpa06821    ca        NaN     1.000   white   \n",
       "2942      automatic  2hgfa16579h341583    ca      3.000     1.000  silver   \n",
       "...             ...                ...   ...        ...       ...     ...   \n",
       "551550          NaN  1g8zj54702z304849    wa      2.000     1.000  silver   \n",
       "551596    automatic  4s3bh6862y7671346    wa      2.000     1.000   black   \n",
       "553939    automatic  1fahp2dw4cg130924    ca      3.300     1.000     red   \n",
       "557280    automatic  1b7hc16x31s209808    ms      1.000     1.000   white   \n",
       "558752          NaN  1n4al3ap2fn332581    tx      1.000     1.000     red   \n",
       "\n",
       "       interior                                             seller    mmr  \\\n",
       "697       black  enterprise vehicle exchange / tra / rental / t...  16950   \n",
       "1000      black                                 santander consumer  10450   \n",
       "1723        NaN                            high bid trading co inc  69000   \n",
       "2082          —                            onemain rem/e motorcars  18300   \n",
       "2942       gray                   ahfc/honda lease trust/hvt, inc.   9325   \n",
       "...         ...                                                ...    ...   \n",
       "551550    black                                 donate for charity   1700   \n",
       "551596     gray                                 donate for charity   3025   \n",
       "553939    beige                           high performance capital  12650   \n",
       "557280     gray   select remarketing group llc/midwest title loans   1750   \n",
       "558752     gray                                          hertz/tra  16000   \n",
       "\n",
       "        sellingprice                  saledate  \n",
       "697             1000 2015-01-13 05:00:00+00:00  \n",
       "1000            1300 2014-12-16 05:00:00+00:00  \n",
       "1723           18500 2014-12-18 04:00:00+00:00  \n",
       "2082           11500 2014-12-18 04:00:00+00:00  \n",
       "2942            1000 2015-06-30 03:00:00+00:00  \n",
       "...              ...                       ...  \n",
       "551550           350 2015-06-16 22:30:00+00:00  \n",
       "551596          1050 2015-06-16 22:30:00+00:00  \n",
       "553939          3700 2015-06-23 22:30:00+00:00  \n",
       "557280           300 2015-06-17 22:02:00+00:00  \n",
       "558752          4000 2015-06-25 00:10:00+00:00  \n",
       "\n",
       "[1315 rows x 16 columns]"
      ]
     },
     "execution_count": 52,
     "metadata": {},
     "output_type": "execute_result"
    }
   ],
   "source": [
    "min_odo = dfcar[dfcar['odometer'] == 1.000]\n",
    "min_odo"
   ]
  },
  {
   "cell_type": "code",
   "execution_count": 53,
   "id": "fc0f1baf-ce1a-41fa-b728-71e9d714c6ad",
   "metadata": {},
   "outputs": [
    {
     "data": {
      "text/html": [
       "<div>\n",
       "<style scoped>\n",
       "    .dataframe tbody tr th:only-of-type {\n",
       "        vertical-align: middle;\n",
       "    }\n",
       "\n",
       "    .dataframe tbody tr th {\n",
       "        vertical-align: top;\n",
       "    }\n",
       "\n",
       "    .dataframe thead th {\n",
       "        text-align: right;\n",
       "    }\n",
       "</style>\n",
       "<table border=\"1\" class=\"dataframe\">\n",
       "  <thead>\n",
       "    <tr style=\"text-align: right;\">\n",
       "      <th></th>\n",
       "      <th>year</th>\n",
       "      <th>make</th>\n",
       "      <th>model</th>\n",
       "      <th>trim</th>\n",
       "      <th>body</th>\n",
       "      <th>transmission</th>\n",
       "      <th>vin</th>\n",
       "      <th>state</th>\n",
       "      <th>condition</th>\n",
       "      <th>odometer</th>\n",
       "      <th>color</th>\n",
       "      <th>interior</th>\n",
       "      <th>seller</th>\n",
       "      <th>mmr</th>\n",
       "      <th>sellingprice</th>\n",
       "      <th>saledate</th>\n",
       "    </tr>\n",
       "  </thead>\n",
       "  <tbody>\n",
       "    <tr>\n",
       "      <th>275</th>\n",
       "      <td>2013</td>\n",
       "      <td>Hyundai</td>\n",
       "      <td>Elantra Coupe</td>\n",
       "      <td>GS</td>\n",
       "      <td>Elantra Coupe</td>\n",
       "      <td>automatic</td>\n",
       "      <td>kmhdh6ae8du017422</td>\n",
       "      <td>ca</td>\n",
       "      <td>1.000</td>\n",
       "      <td>999999.000</td>\n",
       "      <td>blue</td>\n",
       "      <td>gray</td>\n",
       "      <td>hyundai motor finance</td>\n",
       "      <td>8025</td>\n",
       "      <td>2500</td>\n",
       "      <td>2015-01-26 20:00:00+00:00</td>\n",
       "    </tr>\n",
       "    <tr>\n",
       "      <th>4626</th>\n",
       "      <td>2003</td>\n",
       "      <td>Chevrolet</td>\n",
       "      <td>Silverado 1500</td>\n",
       "      <td>LS</td>\n",
       "      <td>Extended Cab</td>\n",
       "      <td>automatic</td>\n",
       "      <td>1gcec19v43e225059</td>\n",
       "      <td>ca</td>\n",
       "      <td>2.000</td>\n",
       "      <td>999999.000</td>\n",
       "      <td>gray</td>\n",
       "      <td>gray</td>\n",
       "      <td>800 loan mart</td>\n",
       "      <td>1425</td>\n",
       "      <td>700</td>\n",
       "      <td>2014-12-16 05:00:00+00:00</td>\n",
       "    </tr>\n",
       "    <tr>\n",
       "      <th>13317</th>\n",
       "      <td>2009</td>\n",
       "      <td>Chevrolet</td>\n",
       "      <td>Cobalt</td>\n",
       "      <td>LT</td>\n",
       "      <td>Coupe</td>\n",
       "      <td>automatic</td>\n",
       "      <td>1g1at18h797165360</td>\n",
       "      <td>tx</td>\n",
       "      <td>NaN</td>\n",
       "      <td>999999.000</td>\n",
       "      <td>white</td>\n",
       "      <td>gray</td>\n",
       "      <td>mei finance</td>\n",
       "      <td>3375</td>\n",
       "      <td>400</td>\n",
       "      <td>2014-12-18 06:00:00+00:00</td>\n",
       "    </tr>\n",
       "    <tr>\n",
       "      <th>13480</th>\n",
       "      <td>2009</td>\n",
       "      <td>Dodge</td>\n",
       "      <td>Charger</td>\n",
       "      <td>Base</td>\n",
       "      <td>Sedan</td>\n",
       "      <td>automatic</td>\n",
       "      <td>2b3ka43d49h578284</td>\n",
       "      <td>il</td>\n",
       "      <td>1.000</td>\n",
       "      <td>999999.000</td>\n",
       "      <td>black</td>\n",
       "      <td>gray</td>\n",
       "      <td>santander consumer</td>\n",
       "      <td>3850</td>\n",
       "      <td>1700</td>\n",
       "      <td>2014-12-23 05:00:00+00:00</td>\n",
       "    </tr>\n",
       "    <tr>\n",
       "      <th>13568</th>\n",
       "      <td>2009</td>\n",
       "      <td>Dodge</td>\n",
       "      <td>Charger</td>\n",
       "      <td>Base</td>\n",
       "      <td>Sedan</td>\n",
       "      <td>automatic</td>\n",
       "      <td>2b3ka43dx9h521300</td>\n",
       "      <td>tx</td>\n",
       "      <td>1.000</td>\n",
       "      <td>999999.000</td>\n",
       "      <td>blue</td>\n",
       "      <td>black</td>\n",
       "      <td>santander consumer</td>\n",
       "      <td>4150</td>\n",
       "      <td>5500</td>\n",
       "      <td>2015-01-08 06:10:00+00:00</td>\n",
       "    </tr>\n",
       "    <tr>\n",
       "      <th>...</th>\n",
       "      <td>...</td>\n",
       "      <td>...</td>\n",
       "      <td>...</td>\n",
       "      <td>...</td>\n",
       "      <td>...</td>\n",
       "      <td>...</td>\n",
       "      <td>...</td>\n",
       "      <td>...</td>\n",
       "      <td>...</td>\n",
       "      <td>...</td>\n",
       "      <td>...</td>\n",
       "      <td>...</td>\n",
       "      <td>...</td>\n",
       "      <td>...</td>\n",
       "      <td>...</td>\n",
       "      <td>...</td>\n",
       "    </tr>\n",
       "    <tr>\n",
       "      <th>489822</th>\n",
       "      <td>2008</td>\n",
       "      <td>Chrysler</td>\n",
       "      <td>300</td>\n",
       "      <td>Touring</td>\n",
       "      <td>sedan</td>\n",
       "      <td>automatic</td>\n",
       "      <td>2c3la53g88h288734</td>\n",
       "      <td>ca</td>\n",
       "      <td>2.700</td>\n",
       "      <td>999999.000</td>\n",
       "      <td>silver</td>\n",
       "      <td>beige</td>\n",
       "      <td>chrysler capital</td>\n",
       "      <td>4325</td>\n",
       "      <td>1200</td>\n",
       "      <td>2015-06-01 23:00:00+00:00</td>\n",
       "    </tr>\n",
       "    <tr>\n",
       "      <th>490450</th>\n",
       "      <td>2002</td>\n",
       "      <td>Ford</td>\n",
       "      <td>Expedition</td>\n",
       "      <td>Eddie Bauer</td>\n",
       "      <td>suv</td>\n",
       "      <td>automatic</td>\n",
       "      <td>1fmru17l72la49923</td>\n",
       "      <td>tx</td>\n",
       "      <td>2.000</td>\n",
       "      <td>999999.000</td>\n",
       "      <td>black</td>\n",
       "      <td>gray</td>\n",
       "      <td>titlemax/leon valley tx1</td>\n",
       "      <td>600</td>\n",
       "      <td>600</td>\n",
       "      <td>2015-06-02 20:20:00+00:00</td>\n",
       "    </tr>\n",
       "    <tr>\n",
       "      <th>501462</th>\n",
       "      <td>2011</td>\n",
       "      <td>Volkswagen</td>\n",
       "      <td>Jetta</td>\n",
       "      <td>SEL</td>\n",
       "      <td>sedan</td>\n",
       "      <td>NaN</td>\n",
       "      <td>3vwlx7aj1bm387406</td>\n",
       "      <td>tx</td>\n",
       "      <td>1.000</td>\n",
       "      <td>999999.000</td>\n",
       "      <td>white</td>\n",
       "      <td>tan</td>\n",
       "      <td>santander consumer</td>\n",
       "      <td>8600</td>\n",
       "      <td>1100</td>\n",
       "      <td>2015-06-02 22:30:00+00:00</td>\n",
       "    </tr>\n",
       "    <tr>\n",
       "      <th>513201</th>\n",
       "      <td>2006</td>\n",
       "      <td>Ford</td>\n",
       "      <td>Taurus</td>\n",
       "      <td>SEL</td>\n",
       "      <td>sedan</td>\n",
       "      <td>automatic</td>\n",
       "      <td>1fafp56u06a197709</td>\n",
       "      <td>oh</td>\n",
       "      <td>1.900</td>\n",
       "      <td>999999.000</td>\n",
       "      <td>gray</td>\n",
       "      <td>gray</td>\n",
       "      <td>car now acceptance co/columbus</td>\n",
       "      <td>175</td>\n",
       "      <td>400</td>\n",
       "      <td>2015-06-10 19:00:00+00:00</td>\n",
       "    </tr>\n",
       "    <tr>\n",
       "      <th>541011</th>\n",
       "      <td>2007</td>\n",
       "      <td>Pontiac</td>\n",
       "      <td>Grand Prix</td>\n",
       "      <td>Base</td>\n",
       "      <td>sedan</td>\n",
       "      <td>automatic</td>\n",
       "      <td>2g2wp552771212846</td>\n",
       "      <td>ms</td>\n",
       "      <td>1.000</td>\n",
       "      <td>999999.000</td>\n",
       "      <td>blue</td>\n",
       "      <td>black</td>\n",
       "      <td>santander consumer</td>\n",
       "      <td>500</td>\n",
       "      <td>600</td>\n",
       "      <td>2015-06-17 22:02:00+00:00</td>\n",
       "    </tr>\n",
       "  </tbody>\n",
       "</table>\n",
       "<p>72 rows × 16 columns</p>\n",
       "</div>"
      ],
      "text/plain": [
       "        year        make           model         trim           body  \\\n",
       "275     2013     Hyundai   Elantra Coupe           GS  Elantra Coupe   \n",
       "4626    2003   Chevrolet  Silverado 1500           LS   Extended Cab   \n",
       "13317   2009   Chevrolet          Cobalt           LT          Coupe   \n",
       "13480   2009       Dodge         Charger         Base          Sedan   \n",
       "13568   2009       Dodge         Charger         Base          Sedan   \n",
       "...      ...         ...             ...          ...            ...   \n",
       "489822  2008    Chrysler             300      Touring          sedan   \n",
       "490450  2002        Ford      Expedition  Eddie Bauer            suv   \n",
       "501462  2011  Volkswagen           Jetta          SEL          sedan   \n",
       "513201  2006        Ford          Taurus          SEL          sedan   \n",
       "541011  2007     Pontiac      Grand Prix         Base          sedan   \n",
       "\n",
       "       transmission                vin state  condition   odometer   color  \\\n",
       "275       automatic  kmhdh6ae8du017422    ca      1.000 999999.000    blue   \n",
       "4626      automatic  1gcec19v43e225059    ca      2.000 999999.000    gray   \n",
       "13317     automatic  1g1at18h797165360    tx        NaN 999999.000   white   \n",
       "13480     automatic  2b3ka43d49h578284    il      1.000 999999.000   black   \n",
       "13568     automatic  2b3ka43dx9h521300    tx      1.000 999999.000    blue   \n",
       "...             ...                ...   ...        ...        ...     ...   \n",
       "489822    automatic  2c3la53g88h288734    ca      2.700 999999.000  silver   \n",
       "490450    automatic  1fmru17l72la49923    tx      2.000 999999.000   black   \n",
       "501462          NaN  3vwlx7aj1bm387406    tx      1.000 999999.000   white   \n",
       "513201    automatic  1fafp56u06a197709    oh      1.900 999999.000    gray   \n",
       "541011    automatic  2g2wp552771212846    ms      1.000 999999.000    blue   \n",
       "\n",
       "       interior                          seller   mmr  sellingprice  \\\n",
       "275        gray           hyundai motor finance  8025          2500   \n",
       "4626       gray                   800 loan mart  1425           700   \n",
       "13317      gray                     mei finance  3375           400   \n",
       "13480      gray              santander consumer  3850          1700   \n",
       "13568     black              santander consumer  4150          5500   \n",
       "...         ...                             ...   ...           ...   \n",
       "489822    beige                chrysler capital  4325          1200   \n",
       "490450     gray        titlemax/leon valley tx1   600           600   \n",
       "501462      tan              santander consumer  8600          1100   \n",
       "513201     gray  car now acceptance co/columbus   175           400   \n",
       "541011    black              santander consumer   500           600   \n",
       "\n",
       "                        saledate  \n",
       "275    2015-01-26 20:00:00+00:00  \n",
       "4626   2014-12-16 05:00:00+00:00  \n",
       "13317  2014-12-18 06:00:00+00:00  \n",
       "13480  2014-12-23 05:00:00+00:00  \n",
       "13568  2015-01-08 06:10:00+00:00  \n",
       "...                          ...  \n",
       "489822 2015-06-01 23:00:00+00:00  \n",
       "490450 2015-06-02 20:20:00+00:00  \n",
       "501462 2015-06-02 22:30:00+00:00  \n",
       "513201 2015-06-10 19:00:00+00:00  \n",
       "541011 2015-06-17 22:02:00+00:00  \n",
       "\n",
       "[72 rows x 16 columns]"
      ]
     },
     "execution_count": 53,
     "metadata": {},
     "output_type": "execute_result"
    }
   ],
   "source": [
    "max_odo = dfcar[dfcar['odometer'] == 999999.000]\n",
    "max_odo"
   ]
  },
  {
   "cell_type": "markdown",
   "id": "eee48b10-44e4-46c1-acf8-f7c6790be44d",
   "metadata": {},
   "source": [
    "Dari data min dan max kolom 'odometer' diatas terlihat bahwa data tersebut tidak hanya mengandung nilai min dan max yang jauh tetapi pada kolom lain juga tidak normal. Hal tersebut bisa dilihat dari sample diatas dimana banyak mengandung null value, nilai mmr dan selling price yang rendah, dan kondisi yang tidak bagus. Selain itu, ternyata lumayan banyak data tersebut, yaitu lebih dari 1000 data."
   ]
  },
  {
   "cell_type": "markdown",
   "id": "5fd7d44b-e067-4600-bb91-3ea07a84cb4f",
   "metadata": {},
   "source": [
    "**2. Nilai Min Selling Price**"
   ]
  },
  {
   "cell_type": "code",
   "execution_count": 49,
   "id": "3b2a5787-2a50-43c9-a76b-b8b77c93fa38",
   "metadata": {},
   "outputs": [
    {
     "data": {
      "text/html": [
       "<div>\n",
       "<style scoped>\n",
       "    .dataframe tbody tr th:only-of-type {\n",
       "        vertical-align: middle;\n",
       "    }\n",
       "\n",
       "    .dataframe tbody tr th {\n",
       "        vertical-align: top;\n",
       "    }\n",
       "\n",
       "    .dataframe thead th {\n",
       "        text-align: right;\n",
       "    }\n",
       "</style>\n",
       "<table border=\"1\" class=\"dataframe\">\n",
       "  <thead>\n",
       "    <tr style=\"text-align: right;\">\n",
       "      <th></th>\n",
       "      <th>year</th>\n",
       "      <th>make</th>\n",
       "      <th>model</th>\n",
       "      <th>trim</th>\n",
       "      <th>body</th>\n",
       "      <th>transmission</th>\n",
       "      <th>vin</th>\n",
       "      <th>state</th>\n",
       "      <th>condition</th>\n",
       "      <th>odometer</th>\n",
       "      <th>color</th>\n",
       "      <th>interior</th>\n",
       "      <th>seller</th>\n",
       "      <th>mmr</th>\n",
       "      <th>sellingprice</th>\n",
       "      <th>saledate</th>\n",
       "    </tr>\n",
       "  </thead>\n",
       "  <tbody>\n",
       "    <tr>\n",
       "      <th>7566</th>\n",
       "      <td>2002</td>\n",
       "      <td>Ford</td>\n",
       "      <td>F-350 Super Duty</td>\n",
       "      <td>XLT</td>\n",
       "      <td>Crew Cab</td>\n",
       "      <td>NaN</td>\n",
       "      <td>1ftsw31f52ed16477</td>\n",
       "      <td>ca</td>\n",
       "      <td>2.000</td>\n",
       "      <td>NaN</td>\n",
       "      <td>white</td>\n",
       "      <td>gray</td>\n",
       "      <td>laa leasing</td>\n",
       "      <td>7850</td>\n",
       "      <td>1</td>\n",
       "      <td>2015-02-04 20:00:00+00:00</td>\n",
       "    </tr>\n",
       "    <tr>\n",
       "      <th>48453</th>\n",
       "      <td>2003</td>\n",
       "      <td>Mercedes-Benz</td>\n",
       "      <td>E-Class</td>\n",
       "      <td>E500</td>\n",
       "      <td>Sedan</td>\n",
       "      <td>automatic</td>\n",
       "      <td>wdbuf70j73a269529</td>\n",
       "      <td>ga</td>\n",
       "      <td>2.100</td>\n",
       "      <td>1.000</td>\n",
       "      <td>black</td>\n",
       "      <td>black</td>\n",
       "      <td>peoples credit company inc</td>\n",
       "      <td>7325</td>\n",
       "      <td>1</td>\n",
       "      <td>2015-01-06 01:30:00+00:00</td>\n",
       "    </tr>\n",
       "    <tr>\n",
       "      <th>293223</th>\n",
       "      <td>2014</td>\n",
       "      <td>Ford</td>\n",
       "      <td>E-Series Van</td>\n",
       "      <td>E-250</td>\n",
       "      <td>E-Series Van</td>\n",
       "      <td>automatic</td>\n",
       "      <td>1ftne2ew6eda13643</td>\n",
       "      <td>tx</td>\n",
       "      <td>4.100</td>\n",
       "      <td>31886.000</td>\n",
       "      <td>white</td>\n",
       "      <td>gray</td>\n",
       "      <td>u-haul</td>\n",
       "      <td>20800</td>\n",
       "      <td>1</td>\n",
       "      <td>2015-02-11 19:00:00+00:00</td>\n",
       "    </tr>\n",
       "    <tr>\n",
       "      <th>348252</th>\n",
       "      <td>1995</td>\n",
       "      <td>Isuzu</td>\n",
       "      <td>Rodeo</td>\n",
       "      <td>LS</td>\n",
       "      <td>SUV</td>\n",
       "      <td>NaN</td>\n",
       "      <td>4s2cm58v9s4375559</td>\n",
       "      <td>va</td>\n",
       "      <td>1.000</td>\n",
       "      <td>254132.000</td>\n",
       "      <td>red</td>\n",
       "      <td>gray</td>\n",
       "      <td>automotive remarketing inc</td>\n",
       "      <td>375</td>\n",
       "      <td>1</td>\n",
       "      <td>2015-03-03 17:05:00+00:00</td>\n",
       "    </tr>\n",
       "  </tbody>\n",
       "</table>\n",
       "</div>"
      ],
      "text/plain": [
       "        year           make             model   trim          body  \\\n",
       "7566    2002           Ford  F-350 Super Duty    XLT      Crew Cab   \n",
       "48453   2003  Mercedes-Benz           E-Class   E500         Sedan   \n",
       "293223  2014           Ford      E-Series Van  E-250  E-Series Van   \n",
       "348252  1995          Isuzu             Rodeo     LS           SUV   \n",
       "\n",
       "       transmission                vin state  condition   odometer  color  \\\n",
       "7566            NaN  1ftsw31f52ed16477    ca      2.000        NaN  white   \n",
       "48453     automatic  wdbuf70j73a269529    ga      2.100      1.000  black   \n",
       "293223    automatic  1ftne2ew6eda13643    tx      4.100  31886.000  white   \n",
       "348252          NaN  4s2cm58v9s4375559    va      1.000 254132.000    red   \n",
       "\n",
       "       interior                      seller    mmr  sellingprice  \\\n",
       "7566       gray                 laa leasing   7850             1   \n",
       "48453     black  peoples credit company inc   7325             1   \n",
       "293223     gray                      u-haul  20800             1   \n",
       "348252     gray  automotive remarketing inc    375             1   \n",
       "\n",
       "                        saledate  \n",
       "7566   2015-02-04 20:00:00+00:00  \n",
       "48453  2015-01-06 01:30:00+00:00  \n",
       "293223 2015-02-11 19:00:00+00:00  \n",
       "348252 2015-03-03 17:05:00+00:00  "
      ]
     },
     "execution_count": 49,
     "metadata": {},
     "output_type": "execute_result"
    }
   ],
   "source": [
    "min_price = dfcar[dfcar['sellingprice'] == 1.000]\n",
    "min_price"
   ]
  },
  {
   "cell_type": "markdown",
   "id": "a535127d-de77-4701-88e3-57800d902796",
   "metadata": {},
   "source": [
    "Nilai min dari selling price yang bernilai 1, terdapat 4 data dari keseluruhan dataset. Hal ini juga perlu menjadi catatan dimana hal ini terkesan tidak masuk akal."
   ]
  },
  {
   "cell_type": "markdown",
   "id": "eda0c82d-b603-4752-bc6b-81f712b1d086",
   "metadata": {},
   "source": [
    "**3. Nilai Min dari MMR**"
   ]
  },
  {
   "cell_type": "code",
   "execution_count": 51,
   "id": "7b2ca6cc-2357-45d6-8981-a768b86b7393",
   "metadata": {},
   "outputs": [
    {
     "data": {
      "text/html": [
       "<div>\n",
       "<style scoped>\n",
       "    .dataframe tbody tr th:only-of-type {\n",
       "        vertical-align: middle;\n",
       "    }\n",
       "\n",
       "    .dataframe tbody tr th {\n",
       "        vertical-align: top;\n",
       "    }\n",
       "\n",
       "    .dataframe thead th {\n",
       "        text-align: right;\n",
       "    }\n",
       "</style>\n",
       "<table border=\"1\" class=\"dataframe\">\n",
       "  <thead>\n",
       "    <tr style=\"text-align: right;\">\n",
       "      <th></th>\n",
       "      <th>year</th>\n",
       "      <th>make</th>\n",
       "      <th>model</th>\n",
       "      <th>trim</th>\n",
       "      <th>body</th>\n",
       "      <th>transmission</th>\n",
       "      <th>vin</th>\n",
       "      <th>state</th>\n",
       "      <th>condition</th>\n",
       "      <th>odometer</th>\n",
       "      <th>color</th>\n",
       "      <th>interior</th>\n",
       "      <th>seller</th>\n",
       "      <th>mmr</th>\n",
       "      <th>sellingprice</th>\n",
       "      <th>saledate</th>\n",
       "    </tr>\n",
       "  </thead>\n",
       "  <tbody>\n",
       "    <tr>\n",
       "      <th>438409</th>\n",
       "      <td>2000</td>\n",
       "      <td>Ford</td>\n",
       "      <td>Expedition</td>\n",
       "      <td>XLT</td>\n",
       "      <td>SUV</td>\n",
       "      <td>NaN</td>\n",
       "      <td>1fmru1666yla22376</td>\n",
       "      <td>md</td>\n",
       "      <td>1.000</td>\n",
       "      <td>304300.000</td>\n",
       "      <td>silver</td>\n",
       "      <td>black</td>\n",
       "      <td>select remarketing group llc/anderson financial</td>\n",
       "      <td>25</td>\n",
       "      <td>250</td>\n",
       "      <td>2015-05-18 23:00:00+00:00</td>\n",
       "    </tr>\n",
       "    <tr>\n",
       "      <th>558168</th>\n",
       "      <td>2003</td>\n",
       "      <td>Saab</td>\n",
       "      <td>9-5</td>\n",
       "      <td>Arc 3.0t</td>\n",
       "      <td>sedan</td>\n",
       "      <td>NaN</td>\n",
       "      <td>ys3ed49z133043714</td>\n",
       "      <td>pa</td>\n",
       "      <td>2.500</td>\n",
       "      <td>189783.000</td>\n",
       "      <td>silver</td>\n",
       "      <td>black</td>\n",
       "      <td>r hollenshead auto sales inc</td>\n",
       "      <td>25</td>\n",
       "      <td>700</td>\n",
       "      <td>2015-06-18 19:00:00+00:00</td>\n",
       "    </tr>\n",
       "    <tr>\n",
       "      <th>386755</th>\n",
       "      <td>2002</td>\n",
       "      <td>NaN</td>\n",
       "      <td>NaN</td>\n",
       "      <td>NaN</td>\n",
       "      <td>NaN</td>\n",
       "      <td>NaN</td>\n",
       "      <td>kmhcg35g32u173308</td>\n",
       "      <td>qc</td>\n",
       "      <td>2.200</td>\n",
       "      <td>296901.000</td>\n",
       "      <td>black</td>\n",
       "      <td>gray</td>\n",
       "      <td>auto deall</td>\n",
       "      <td>25</td>\n",
       "      <td>250</td>\n",
       "      <td>2015-03-02 18:00:00+00:00</td>\n",
       "    </tr>\n",
       "    <tr>\n",
       "      <th>205709</th>\n",
       "      <td>1997</td>\n",
       "      <td>Nissan</td>\n",
       "      <td>Maxima</td>\n",
       "      <td>GLE</td>\n",
       "      <td>Sedan</td>\n",
       "      <td>automatic</td>\n",
       "      <td>jn1ca21d3vt870132</td>\n",
       "      <td>fl</td>\n",
       "      <td>1.900</td>\n",
       "      <td>220607.000</td>\n",
       "      <td>black</td>\n",
       "      <td>tan</td>\n",
       "      <td>autonation nissan orange park</td>\n",
       "      <td>25</td>\n",
       "      <td>300</td>\n",
       "      <td>2015-01-27 02:00:00+00:00</td>\n",
       "    </tr>\n",
       "    <tr>\n",
       "      <th>78379</th>\n",
       "      <td>1995</td>\n",
       "      <td>chevrolet</td>\n",
       "      <td>1500</td>\n",
       "      <td>4x4 ext silver z71</td>\n",
       "      <td>NaN</td>\n",
       "      <td>automatic</td>\n",
       "      <td>2gcek19kxs1187586</td>\n",
       "      <td>md</td>\n",
       "      <td>2.000</td>\n",
       "      <td>284155.000</td>\n",
       "      <td>green</td>\n",
       "      <td>gray</td>\n",
       "      <td>purple heart services inc</td>\n",
       "      <td>25</td>\n",
       "      <td>550</td>\n",
       "      <td>2015-01-05 20:00:00+00:00</td>\n",
       "    </tr>\n",
       "  </tbody>\n",
       "</table>\n",
       "</div>"
      ],
      "text/plain": [
       "        year       make       model                trim   body transmission  \\\n",
       "438409  2000       Ford  Expedition                 XLT    SUV          NaN   \n",
       "558168  2003       Saab         9-5            Arc 3.0t  sedan          NaN   \n",
       "386755  2002        NaN         NaN                 NaN    NaN          NaN   \n",
       "205709  1997     Nissan      Maxima                 GLE  Sedan    automatic   \n",
       "78379   1995  chevrolet        1500  4x4 ext silver z71    NaN    automatic   \n",
       "\n",
       "                      vin state  condition   odometer   color interior  \\\n",
       "438409  1fmru1666yla22376    md      1.000 304300.000  silver    black   \n",
       "558168  ys3ed49z133043714    pa      2.500 189783.000  silver    black   \n",
       "386755  kmhcg35g32u173308    qc      2.200 296901.000   black     gray   \n",
       "205709  jn1ca21d3vt870132    fl      1.900 220607.000   black      tan   \n",
       "78379   2gcek19kxs1187586    md      2.000 284155.000   green     gray   \n",
       "\n",
       "                                                 seller  mmr  sellingprice  \\\n",
       "438409  select remarketing group llc/anderson financial   25           250   \n",
       "558168                     r hollenshead auto sales inc   25           700   \n",
       "386755                                       auto deall   25           250   \n",
       "205709                    autonation nissan orange park   25           300   \n",
       "78379                         purple heart services inc   25           550   \n",
       "\n",
       "                        saledate  \n",
       "438409 2015-05-18 23:00:00+00:00  \n",
       "558168 2015-06-18 19:00:00+00:00  \n",
       "386755 2015-03-02 18:00:00+00:00  \n",
       "205709 2015-01-27 02:00:00+00:00  \n",
       "78379  2015-01-05 20:00:00+00:00  "
      ]
     },
     "execution_count": 51,
     "metadata": {},
     "output_type": "execute_result"
    }
   ],
   "source": [
    "min_mmr = dfcar[dfcar['mmr'] == 25.000]\n",
    "min_mmr.sample(5)"
   ]
  },
  {
   "cell_type": "markdown",
   "id": "4e4a44e2-b676-4557-8c4a-e690d461b4a0",
   "metadata": {},
   "source": [
    "Dari data diatas dimana nilai mmr hanya 25, juga terdapat kejanggalan pada kolom yang lainnya. Yaitu, banyak terdapat null value, nilai sellingprice yang tergolong kecil, kondisi yang tidak bagus."
   ]
  },
  {
   "cell_type": "markdown",
   "id": "c475cecb-e2b6-4e5c-aab6-194b384dfa75",
   "metadata": {
    "tags": []
   },
   "source": [
    "### Data Insight\n",
    "Beberapa data insight lainnya yang didapat dari univariate analysis"
   ]
  },
  {
   "cell_type": "code",
   "execution_count": 23,
   "id": "0gumt9hgF5Gd",
   "metadata": {
    "colab": {
     "base_uri": "https://localhost:8080/",
     "height": 423
    },
    "id": "0gumt9hgF5Gd",
    "outputId": "5c3dc52a-aa57-43d6-9792-1811ed902aca"
   },
   "outputs": [
    {
     "data": {
      "text/html": [
       "<div>\n",
       "<style scoped>\n",
       "    .dataframe tbody tr th:only-of-type {\n",
       "        vertical-align: middle;\n",
       "    }\n",
       "\n",
       "    .dataframe tbody tr th {\n",
       "        vertical-align: top;\n",
       "    }\n",
       "\n",
       "    .dataframe thead th {\n",
       "        text-align: right;\n",
       "    }\n",
       "</style>\n",
       "<table border=\"1\" class=\"dataframe\">\n",
       "  <thead>\n",
       "    <tr style=\"text-align: right;\">\n",
       "      <th></th>\n",
       "      <th>make</th>\n",
       "      <th>count</th>\n",
       "    </tr>\n",
       "  </thead>\n",
       "  <tbody>\n",
       "    <tr>\n",
       "      <th>0</th>\n",
       "      <td>Ford</td>\n",
       "      <td>93554</td>\n",
       "    </tr>\n",
       "    <tr>\n",
       "      <th>1</th>\n",
       "      <td>Chevrolet</td>\n",
       "      <td>60197</td>\n",
       "    </tr>\n",
       "    <tr>\n",
       "      <th>2</th>\n",
       "      <td>Nissan</td>\n",
       "      <td>53946</td>\n",
       "    </tr>\n",
       "    <tr>\n",
       "      <th>3</th>\n",
       "      <td>Toyota</td>\n",
       "      <td>39871</td>\n",
       "    </tr>\n",
       "    <tr>\n",
       "      <th>4</th>\n",
       "      <td>Dodge</td>\n",
       "      <td>30710</td>\n",
       "    </tr>\n",
       "    <tr>\n",
       "      <th>...</th>\n",
       "      <td>...</td>\n",
       "      <td>...</td>\n",
       "    </tr>\n",
       "    <tr>\n",
       "      <th>91</th>\n",
       "      <td>chev truck</td>\n",
       "      <td>1</td>\n",
       "    </tr>\n",
       "    <tr>\n",
       "      <th>92</th>\n",
       "      <td>ford tk</td>\n",
       "      <td>1</td>\n",
       "    </tr>\n",
       "    <tr>\n",
       "      <th>93</th>\n",
       "      <td>airstream</td>\n",
       "      <td>1</td>\n",
       "    </tr>\n",
       "    <tr>\n",
       "      <th>94</th>\n",
       "      <td>hyundai tk</td>\n",
       "      <td>1</td>\n",
       "    </tr>\n",
       "    <tr>\n",
       "      <th>95</th>\n",
       "      <td>mazda tk</td>\n",
       "      <td>1</td>\n",
       "    </tr>\n",
       "  </tbody>\n",
       "</table>\n",
       "<p>96 rows × 2 columns</p>\n",
       "</div>"
      ],
      "text/plain": [
       "          make  count\n",
       "0         Ford  93554\n",
       "1    Chevrolet  60197\n",
       "2       Nissan  53946\n",
       "3       Toyota  39871\n",
       "4        Dodge  30710\n",
       "..         ...    ...\n",
       "91  chev truck      1\n",
       "92     ford tk      1\n",
       "93   airstream      1\n",
       "94  hyundai tk      1\n",
       "95    mazda tk      1\n",
       "\n",
       "[96 rows x 2 columns]"
      ]
     },
     "execution_count": 23,
     "metadata": {},
     "output_type": "execute_result"
    }
   ],
   "source": [
    "# Mengelompokan berdasarkan make (merk atau brand)\n",
    "top_make = dfcar.groupby('make').size().sort_values(ascending= False).reset_index(name='count')\n",
    "top_make"
   ]
  },
  {
   "cell_type": "markdown",
   "id": "FGJHoGvb9vKF",
   "metadata": {
    "id": "FGJHoGvb9vKF"
   },
   "source": [
    "Terlihat bahwa merk mobil paling favorit adalah Ford, lalu selanjutnya disusul oleh Chevrolet, Nissan, Toyota, Dodge, dst."
   ]
  },
  {
   "cell_type": "code",
   "execution_count": 24,
   "id": "qh_7aYUx3JEP",
   "metadata": {
    "colab": {
     "base_uri": "https://localhost:8080/",
     "height": 423
    },
    "id": "qh_7aYUx3JEP",
    "outputId": "98845d96-f0e7-424d-c6a4-515399853e46"
   },
   "outputs": [
    {
     "data": {
      "text/html": [
       "<div>\n",
       "<style scoped>\n",
       "    .dataframe tbody tr th:only-of-type {\n",
       "        vertical-align: middle;\n",
       "    }\n",
       "\n",
       "    .dataframe tbody tr th {\n",
       "        vertical-align: top;\n",
       "    }\n",
       "\n",
       "    .dataframe thead th {\n",
       "        text-align: right;\n",
       "    }\n",
       "</style>\n",
       "<table border=\"1\" class=\"dataframe\">\n",
       "  <thead>\n",
       "    <tr style=\"text-align: right;\">\n",
       "      <th></th>\n",
       "      <th>model</th>\n",
       "      <th>count</th>\n",
       "    </tr>\n",
       "  </thead>\n",
       "  <tbody>\n",
       "    <tr>\n",
       "      <th>0</th>\n",
       "      <td>Altima</td>\n",
       "      <td>19349</td>\n",
       "    </tr>\n",
       "    <tr>\n",
       "      <th>1</th>\n",
       "      <td>F-150</td>\n",
       "      <td>14479</td>\n",
       "    </tr>\n",
       "    <tr>\n",
       "      <th>2</th>\n",
       "      <td>Fusion</td>\n",
       "      <td>12946</td>\n",
       "    </tr>\n",
       "    <tr>\n",
       "      <th>3</th>\n",
       "      <td>Camry</td>\n",
       "      <td>12545</td>\n",
       "    </tr>\n",
       "    <tr>\n",
       "      <th>4</th>\n",
       "      <td>Escape</td>\n",
       "      <td>11861</td>\n",
       "    </tr>\n",
       "    <tr>\n",
       "      <th>...</th>\n",
       "      <td>...</td>\n",
       "      <td>...</td>\n",
       "    </tr>\n",
       "    <tr>\n",
       "      <th>968</th>\n",
       "      <td>Paseo</td>\n",
       "      <td>1</td>\n",
       "    </tr>\n",
       "    <tr>\n",
       "      <th>969</th>\n",
       "      <td>Q3</td>\n",
       "      <td>1</td>\n",
       "    </tr>\n",
       "    <tr>\n",
       "      <th>970</th>\n",
       "      <td>Ram Van</td>\n",
       "      <td>1</td>\n",
       "    </tr>\n",
       "    <tr>\n",
       "      <th>971</th>\n",
       "      <td>Regency</td>\n",
       "      <td>1</td>\n",
       "    </tr>\n",
       "    <tr>\n",
       "      <th>972</th>\n",
       "      <td>1</td>\n",
       "      <td>1</td>\n",
       "    </tr>\n",
       "  </tbody>\n",
       "</table>\n",
       "<p>973 rows × 2 columns</p>\n",
       "</div>"
      ],
      "text/plain": [
       "       model  count\n",
       "0     Altima  19349\n",
       "1      F-150  14479\n",
       "2     Fusion  12946\n",
       "3      Camry  12545\n",
       "4     Escape  11861\n",
       "..       ...    ...\n",
       "968    Paseo      1\n",
       "969       Q3      1\n",
       "970  Ram Van      1\n",
       "971  Regency      1\n",
       "972        1      1\n",
       "\n",
       "[973 rows x 2 columns]"
      ]
     },
     "execution_count": 24,
     "metadata": {},
     "output_type": "execute_result"
    }
   ],
   "source": [
    "# Mengelompokan berdasarkan model\n",
    "top_model = dfcar.groupby('model').size().sort_values(ascending= False).reset_index(name='count')\n",
    "top_model"
   ]
  },
  {
   "cell_type": "markdown",
   "id": "n33gVnVN4KDT",
   "metadata": {
    "id": "n33gVnVN4KDT"
   },
   "source": [
    "Terlihat bahwa top model mobil bekas adalah Altima dan top 2 adalah F-150."
   ]
  },
  {
   "cell_type": "code",
   "execution_count": 25,
   "id": "joRWYN0A4yz3",
   "metadata": {
    "id": "joRWYN0A4yz3"
   },
   "outputs": [],
   "source": [
    "# Mengelompokan berdasarkan warna mobil dan warna interior\n",
    "color = dfcar.groupby('color').size().sort_values(ascending= False).reset_index(name= 'count')\n",
    "interior = dfcar.groupby('interior').size().sort_values(ascending= False).reset_index(name= 'count')"
   ]
  },
  {
   "cell_type": "code",
   "execution_count": 30,
   "id": "x_XRHd7O6JBx",
   "metadata": {
    "colab": {
     "base_uri": "https://localhost:8080/",
     "height": 637
    },
    "id": "x_XRHd7O6JBx",
    "outputId": "a329bee7-eba4-42fc-deab-9af949fe1ff3"
   },
   "outputs": [
    {
     "data": {
      "image/png": "[encoded data removed]",
      "text/plain": [
       "<Figure size 1000x300 with 2 Axes>"
      ]
     },
     "metadata": {},
     "output_type": "display_data"
    }
   ],
   "source": [
    "#visualisasi\n",
    "plt.figure(figsize= (10, 3))\n",
    "\n",
    "plt.subplot(1,2,1)\n",
    "sns.barplot(data=color, x='color', y='count')\n",
    "plt.title('Warna Mobil Fav')\n",
    "plt.xticks(rotation= 45, size= 8)\n",
    "\n",
    "plt.subplot(1,2,2)\n",
    "sns.barplot(data=interior, x='interior', y='count')\n",
    "plt.title('Warna Interior Mobil Fav')\n",
    "plt.xticks(rotation= 45, size= 8)\n",
    "plt.tight_layout()"
   ]
  },
  {
   "cell_type": "markdown",
   "id": "a7VcbuRV8q8x",
   "metadata": {
    "id": "a7VcbuRV8q8x"
   },
   "source": [
    "Dapat terlihat bahwa :\n",
    "1. Untuk warna mobil dan warna interior mobil paling fav adalah warna hitam\n",
    "2. Untuk warna mobil putih juga sama banyak dengan warna hitam, beda tipis\n",
    "3. Warna mobil silver dan gray memiliki jumlah yg setara\n",
    "4. Warna interior gray juga menjadi fav kedua setelah warna interior hitam"
   ]
  }
 ],
 "metadata": {
  "colab": {
   "provenance": []
  },
  "kernelspec": {
   "display_name": "Python 3 (ipykernel)",
   "language": "python",
   "name": "python3"
  },
  "language_info": {
   "codemirror_mode": {
    "name": "ipython",
    "version": 3
   },
   "file_extension": ".py",
   "mimetype": "text/x-python",
   "name": "python",
   "nbconvert_exporter": "python",
   "pygments_lexer": "ipython3",
   "version": "3.10.9"
  }
 },
 "nbformat": 4,
 "nbformat_minor": 5
}
